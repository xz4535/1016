{
 "cells": [
  {
   "cell_type": "markdown",
   "metadata": {},
   "source": [
    "# Homework - Categorization and Model Comparison Part A (70/110 points)\n"
   ]
  },
  {
   "cell_type": "markdown",
   "metadata": {},
   "source": [
    "by _Todd Gureckis_ and _Brenden Lake_  \n",
    "Computational Cognitive Modeling  \n",
    "NYU class webpage: https://brendenlake.github.io/CCM-site/\n"
   ]
  },
  {
   "cell_type": "markdown",
   "metadata": {},
   "source": [
    "<div class=\"alert alert-danger\" role=\"alert\">\n",
    "  This homework is due before midnight on April 22 2024. \n",
    "</div>\n"
   ]
  },
  {
   "cell_type": "markdown",
   "metadata": {},
   "source": [
    "---\n"
   ]
  },
  {
   "cell_type": "code",
   "execution_count": 3,
   "metadata": {},
   "outputs": [],
   "source": [
    "import string as str\n",
    "import os\n",
    "import numpy as np\n",
    "import seaborn as sns\n",
    "import pandas as pd\n",
    "import math\n",
    "from random import random, randint, shuffle, uniform\n",
    "from scipy.optimize import fmin, brute"
   ]
  },
  {
   "cell_type": "markdown",
   "metadata": {},
   "source": [
    "# Background and Theory\n"
   ]
  },
  {
   "cell_type": "markdown",
   "metadata": {},
   "source": [
    "In this homework we explore the cognitive mechanisms that support unsupervised\n",
    "pattern categorization in humans. In addition, we use this as an example of\n",
    "testing and comparing between models.\n"
   ]
  },
  {
   "cell_type": "markdown",
   "metadata": {},
   "source": [
    "## A simple (classic) unsupervised categorization experiment\n"
   ]
  },
  {
   "cell_type": "markdown",
   "metadata": {},
   "source": [
    "In Posner and Keele (1968) report a now classic categorization experiment with\n",
    "humans. In the task participants viewed visual stimuli that are clouds of\n",
    "points (known as dot patterns) similar to a scatter plot of data on a graph.\n",
    "An examples of the stimuli is shown here:\n"
   ]
  },
  {
   "cell_type": "markdown",
   "metadata": {},
   "source": [
    "<img src='images/singledotpattern.png'>\n"
   ]
  },
  {
   "cell_type": "markdown",
   "metadata": {},
   "source": [
    "**Experiment Design**\n",
    "\n",
    "The experiment was divided into a training and test phase. During the training\n",
    "phase, for each subject a single random dot pattern was generated and\n",
    "considered to be the underlying \"prototype\" structure. A prototype is like a\n",
    "common template or reference pattern. The key is that participants never get\n",
    "to see the \"prototype\" pattern directly during training. Instead they see what\n",
    "are known as \"distortions\" of the prototype. A distortion of a pattern is made\n",
    "by adding random spatial noise to each point in a pattern to kind of \"wiggle\"\n",
    "the points away from their original position.\n",
    "\n",
    "For example, here is a random prototype (top) and a bunch of random\n",
    "distortions of the prototype made by adding or subtracting small random values\n",
    "from the `<x,y>` value of each point in the pattern.\n"
   ]
  },
  {
   "cell_type": "markdown",
   "metadata": {},
   "source": [
    "<img src='images/distortions.png'>\n"
   ]
  },
  {
   "cell_type": "markdown",
   "metadata": {},
   "source": [
    "Posner and Keele created distortions that added more or less random noise. For\n",
    "example, \"high\" distortions add a lot of randomness to the underlying template\n",
    "pattern whereas \"low\" distortions add only a little bit of noise.\n"
   ]
  },
  {
   "cell_type": "markdown",
   "metadata": {},
   "source": [
    "**Training Phase**\n",
    "\n",
    "In the training phase of the experiment subjects view 10 training examples one\n",
    "at a time which are \"high\" distortions of a randomly generated prototype. The\n",
    "instructions are that subjects should look at these patterns, and that they\n",
    "come from a single category similar to if you viewed a series of pictures of\n",
    "dogs they would all come from the category `dog`. Subjects were try to figure\n",
    "out the pattern that related the different images to one another. Try it for\n",
    "yourself by looking at each of the \"distortions\" patterns above one by one and\n",
    "trying to detected the common structure.\n"
   ]
  },
  {
   "cell_type": "markdown",
   "metadata": {},
   "source": [
    "**Test Phase**\n",
    "\n",
    "During the test phase, participants view a series of dot patterns one at a\n",
    "time and have to judge: **Does the given pattern come from the same general\n",
    "category or family you studied earlier or is it a new pattern that is\n",
    "different?** This is an unsupervised categorization task because the subject\n",
    "has to abstract what the common structure is from the given patterns and then\n",
    "use that information to make classification decisions about new patterns.\n",
    "\n",
    "Unknown to participants the set of test items varied in a specific way with\n",
    "respect the training patterns. In particular, there were five particular types\n",
    "of patterns presented during test.\n",
    "\n",
    "- The first type were \"old\" patterns which were identical to those presented\n",
    "  during the training phase.\n",
    "- The second type were \"random\" patterns which were from a complete new\n",
    "  randomly generated prototype (thus had nothing to do with the items\n",
    "  presented during training).\n",
    "- The third type were new \"high distortions\" of the underlying prototype that\n",
    "  was used to create the study set. These are thus similar to the \"old\" items\n",
    "  but do not match exactly.\n",
    "- The fourth type were \"low distortions\" of the underlying prototype that was\n",
    "  used to crete the study set. These are more similar to the prototype pattern\n",
    "  than the \"high\" distortions are.\n",
    "- Finally the actual prototype used to generate the items during training was\n",
    "  presented. This pattern is interesting because the prototype pattern was\n",
    "  never seen exactly during training. However, people saw many high\n",
    "  distortions of this item during training and given the instructions to\n",
    "  detect what the common structure of the training patterns is, they may have\n",
    "  learned something about this latent or hidden pattern.\n"
   ]
  },
  {
   "cell_type": "markdown",
   "metadata": {},
   "source": [
    "**Typical Results**:\n",
    "\n",
    "This graph show example results that are typical for an experiment like this:\n"
   ]
  },
  {
   "cell_type": "code",
   "execution_count": 4,
   "metadata": {},
   "outputs": [
    {
     "data": {
      "text/plain": [
       "<Axes: xlabel='Stimulus Type', ylabel='Probability of Endorsement'>"
      ]
     },
     "execution_count": 4,
     "metadata": {},
     "output_type": "execute_result"
    },
    {
     "data": {
      "image/png": "[encoded data removed]",
      "text/plain": [
       "<Figure size 640x480 with 1 Axes>"
      ]
     },
     "metadata": {},
     "output_type": "display_data"
    }
   ],
   "source": [
    "df = pd.DataFrame(\n",
    "    {\n",
    "        \"Stimulus Type\": [\"Prototype\", \"Low\", \"High\", \"Random\", \"Old\"],\n",
    "        \"Probability of Endorsement\": [0.91, 0.76, 0.5, 0.27, 0.79],\n",
    "    }\n",
    ")\n",
    "sns.barplot(x=\"Stimulus Type\", y=\"Probability of Endorsement\", data=df)"
   ]
  },
  {
   "cell_type": "markdown",
   "metadata": {},
   "source": [
    "The height of the bars indicates the probability of endorsing a pattern as a\n",
    "member of the category during the test phase (high values mean that at test a\n",
    "subject is more likely to agree \"yes this pattern fits with the one I\n",
    "learned\"). Notice that the \"old\" items (the exact patterns studied during\n",
    "learning are endorsed at a relatively high rate. In contrast the \"random\"\n",
    "patterns (those coming from a completely different underlying pattern) are\n",
    "endorsed at a very low rate. The low and high distortions are endorsed at\n",
    "intermediate rates (with the low distoritions preferred). Interestingly, the\n",
    "prototype pattern is endorsed most strongly even though it was never presented\n",
    "during the study period! It is like during learning people figured out the\n",
    "underlying pattern that generated the stimuli!\n"
   ]
  },
  {
   "cell_type": "markdown",
   "metadata": {},
   "source": [
    "## Categorization: Memory for examples or abstractions?\n"
   ]
  },
  {
   "cell_type": "markdown",
   "metadata": {},
   "source": [
    "The dot pattern experiments are interesting and have been replicated in\n",
    "various ways perhaps hundreds of time. How do people make these judgments?\n",
    "What information to people store during the study phase that would predict\n",
    "their performance in the test phase? What rule do they use for combining\n",
    "information from memory in order to make these kind of judgements? We are\n",
    "going to build up a model of categorization in a few simple steps.\n"
   ]
  },
  {
   "cell_type": "markdown",
   "metadata": {},
   "source": [
    "## Step 1: How are dot patterns represented in the mind?\n"
   ]
  },
  {
   "cell_type": "markdown",
   "metadata": {},
   "source": [
    "Our first question concerns how people represent the dot patterns and the\n",
    "similarity between different dot patterns. A variety of work has suggested\n",
    "that the psychological similarity between pairs of dot patterns follows\n",
    "roughly a logarithmic transform of the average euclidean distance between the\n",
    "pairs of points (plus one). This was established by having people view pairs\n",
    "of dot patterns and rate how similar they seem. For example here is a plot\n",
    "from a paper by Smith and Minda showing a strong contgruence between\n",
    "dissimiliarty ratings between pairs of stimuli and `log(distance)`\n"
   ]
  },
  {
   "cell_type": "markdown",
   "metadata": {},
   "source": [
    "<img src=\"images/dotsimilaritylog.png\" width=\"600\">\n"
   ]
  },
  {
   "cell_type": "markdown",
   "metadata": {},
   "source": [
    "In light of this lets define the similarity between two dot patterns $i$ and\n",
    "$j$ as $s_{ij}$ and let it equal the following equation:\n",
    "\n",
    "\n",
    "$\\Large s_{ij} = log(1 + \\frac{\\sqrt{\\sum_d[(i_{d_x}-j_{d_x})^2 + (i_{d_y}-j_{d_y})^2]}}{9})$\n",
    "\n",
    "\n",
    "where $i_{d_x}$ is the $x$ position of the $d$-th dot in pattern $i$ and\n",
    "$j_{d_x}$ is the $x$ position for pattern $j$ (likewise for $i_{d_y}$). There\n",
    "are 9 dots total, so we divide by 9 to get the average. Because it can\n",
    "sometimes be ambiguous which dot aligns which which one in a pattern we choose\n",
    "the dots which are closest in the two patterns to compute this score.\n"
   ]
  },
  {
   "cell_type": "markdown",
   "metadata": {},
   "source": [
    "## Step 2: What is stored in memory?\n"
   ]
  },
  {
   "cell_type": "markdown",
   "metadata": {},
   "source": [
    "The next consideration is what people actually store in memory during the\n",
    "training phase of the experiment. There are of course many alternatives.\n",
    "People could store an \"average\" of the points seen so far, or they could store\n",
    "each individual pattern that they have seen, or they could store nothing and\n",
    "try to figure it out at test, or they could store some verbal description of\n",
    "what the shapes \"look like\", or the shape of the outer edge of the dot-cloud\n",
    "(the \"convex null\"), etc...\n"
   ]
  },
  {
   "cell_type": "markdown",
   "metadata": {},
   "source": [
    "There are, however, two leading theories which have attracted considerable\n",
    "debate in the cognitive science literature: the prototype and exemplar theory.\n"
   ]
  },
  {
   "cell_type": "markdown",
   "metadata": {},
   "source": [
    "### Exemplar models\n"
   ]
  },
  {
   "cell_type": "markdown",
   "metadata": {},
   "source": [
    "Exemplar models are a general class of psychological models related to nearest\n",
    "neighbor algorithms. The most important feature of these models is the idea\n",
    "that people have what appears to be a nearly infitite memory for the past and\n",
    "as a result you can store all past experiences or examples in memory. This\n",
    "seems crazy as we are forgetting things all the time but actually psychology\n",
    "is unclear about if we actually forget things or if we simply lose the ability\n",
    "to retreive a memory (i.e., more like losing the pointer to the memory rather\n",
    "than decay).\n",
    "\n",
    "As mentioned in lecture, nearset neighbor classifiers use a similarity\n",
    "function (similar to the ones described above) to retrieve from memory the\n",
    "nearest labeled example and to predict the category membership based on the\n",
    "label for this item. This nearest neighbor algorithm can be relaxed slightly\n",
    "to consider $k$-nearest neighbors. According to this algorithm you find the\n",
    "$k$ neighbor examples (with $k>1$) to the current pattern and response based\n",
    "on what the majority of these examples say.\n",
    "\n",
    "Now we can go a bit further and say that you compute the similarity to all\n",
    "past examples but _weight_ their vote according to their similarity. So\n",
    "instead of picking the label of the closest or $k$-closest examples we compare\n",
    "the current pattern using a global match to all examples in the memory and\n",
    "weight their predictions based on similarity. Pretty neat!\n"
   ]
  },
  {
   "cell_type": "markdown",
   "metadata": {},
   "source": [
    "Ok, but how does this help us in the case of **unsupervised** categorization\n",
    "such as in the dot pattern case? Here what we will assume is that we compute\n",
    "this similarity of the to-be-categorized item (the test item) to all the\n",
    "examples stored in memory and compare it to some criterion value. If the sum\n",
    "of the similarity to all the examples falls below this criterion then we\n",
    "assume the pattern is new and doesn't match what we learned. If it is above\n",
    "the criterion we judge the item is a good example of the category.\n"
   ]
  },
  {
   "cell_type": "markdown",
   "metadata": {},
   "source": [
    "In the example model we will consider the probability of endorsing an item is\n",
    "going to be determined by the following equation:\n",
    "\n",
    "\n",
    "$\\Large P(A|i) = \\frac{\\sum_j e^{-c \\cdot s_{ij}}}{\\sum_j e^{-c \\cdot s_{ij}} + k}$\n"
   ]
  },
  {
   "cell_type": "markdown",
   "metadata": {},
   "source": [
    "where $P(A|i)$ is the probability of endorsing pattern $i$ as a member of the\n",
    "category seen during study. $s_{ij}$ is the similarity between pattern $i$ and\n",
    "pattern $j$ which is an example stored in memory during the study phase. $k$\n",
    "is the criterion against which the summed similarity is being compared. If $k$\n",
    "is zero then you endorse the item as a member of the category all the time\n",
    "irrespecitive of the similiary and if $k$ gets large you become more and more\n",
    "less likely to endorse the item (i.e., more likely to say no).\n",
    "\n",
    "<img src=\"images/exemplarcompare.png\" width=\"400\">\n"
   ]
  },
  {
   "cell_type": "markdown",
   "metadata": {},
   "source": [
    "The sum is with respect to an exponential sum which has some deeper relation\n",
    "to research on categorization that we do not have time to discuss. However, it\n",
    "is basically the idea that very close matches ($s_{ij}=0$) are especially\n",
    "strong and things that are less similar count less. You can think of it as the\n",
    "the particular weighted nearest neighbor algorithm we think the mind uses. $c$\n",
    "is a free parameter that controls that weighting function and is often fitted\n",
    "to data.\n"
   ]
  },
  {
   "cell_type": "markdown",
   "metadata": {},
   "source": [
    "### Prototype models\n"
   ]
  },
  {
   "cell_type": "markdown",
   "metadata": {},
   "source": [
    "The prototype model is different than the exemplar model because it assumes\n",
    "that instead of storing each of the training patterns in memory exactly,\n",
    "instead people store a single summary representation. For example, people\n",
    "might store a mentally computed \"average\" pattern. When you think about how\n",
    "you would perform the task you might think that you kind of compare the\n",
    "training patterns to one another and then compute some summary.\n",
    "\n",
    "<img src=\"images/prototypetheory.png\" width=\"500\">\n",
    "\n",
    "In the case of the dot pattern stimuli one way to do this is to store a\n",
    "special trace in memory called the prototype which is the average of all the\n",
    "patterns seen so far (averaging the $<x,y>$ position of each point to find an\n",
    "average dot location.\n",
    "\n",
    "According to the prototype model the probabililty of endorsing a test item\n",
    "pattern as a member of the category that was studied during training is:\n"
   ]
  },
  {
   "cell_type": "markdown",
   "metadata": {},
   "source": [
    "\n",
    "$\\Large P(A|i) = \\frac{e^{-c \\cdot s_{ip}}}{e^{-c \\cdot s_{ip}} + k}$\n",
    "\n"
   ]
  },
  {
   "cell_type": "markdown",
   "metadata": {},
   "source": [
    "Note that nearly everything about this equation is the same except there is no\n",
    "longer a sum! Instead we simply compute the similarity between the test\n",
    "pattern and this special \"prototype\" pattern ($p$) which has been averaged\n",
    "from the training examples.\n",
    "\n",
    "<img src=\"images/prototypecomparison.png\" width=\"500\">\n"
   ]
  },
  {
   "cell_type": "markdown",
   "metadata": {},
   "source": [
    "### Parameters\n"
   ]
  },
  {
   "cell_type": "markdown",
   "metadata": {},
   "source": [
    "$k$ and $c$ are \"free parameters\" in both the exemplar and prototype model\n",
    "which are assumed to modulate or alter the core psychological processes. These\n",
    "parameters might vary between subjects and as a function of condition. Thus,\n",
    "in order to assess the ability of the model to account for the data we often\n",
    "\"fit\" these parameters to our data.\n"
   ]
  },
  {
   "cell_type": "markdown",
   "metadata": {},
   "source": [
    "# Model Comparison\n"
   ]
  },
  {
   "cell_type": "markdown",
   "metadata": {},
   "source": [
    "With these idea in mind, in this homework you are going to compare the\n",
    "exemplar and prototype model to account for some data from an actual dot\n",
    "pattern categorization task collected with human subjects. The goal is that by\n",
    "doing the homework you would develop some useful code that would let you more\n",
    "or less plug in a model that you might come across in your research, fit it to\n",
    "data, and verify that the fits are good, etc...\n"
   ]
  },
  {
   "cell_type": "markdown",
   "metadata": {},
   "source": [
    "## Reading in some data\n"
   ]
  },
  {
   "cell_type": "markdown",
   "metadata": {},
   "source": [
    "The `data/` folder that comes with this homework contains data from 14 human\n",
    "subjects who participated in a dot pattern classification task. The data\n",
    "describing each subject is in a text file (`.dat`) indexed by subject number\n",
    "(e.g., `1.dat`, `2.dat`, etc...).\n",
    "\n",
    "The organization of these files is as follows:\n"
   ]
  },
  {
   "cell_type": "markdown",
   "metadata": {},
   "source": [
    "The first 44 lines of the file contain a description of the stimulus that the\n",
    "subject saw on a given trial including the x, y coordinate of each dot. The\n",
    "first columns of these 44 lines is the number of the pattern (`1-44`). The\n",
    "second column is the type of pattern using the following codes:\n",
    "\n",
    "- `1` = prototype\n",
    "- `2` = 10 \"high distortions\" of the prototype that were used as study\n",
    "  patterns during learning\n",
    "- `3` = 10 new \"high distortions\" of the prototype presented during test\n",
    "- `4` = 4 \"low distortions\" of the prototype that were presented during test\n",
    "- `5` = 20 random items that come from different prototypes that were\n",
    "  presented at test\n",
    "\n",
    "The next 18 values of each row are the coordinates of the dots (with the x, y\n",
    "coordinates in sequence). So `[x1, y1, x2, y2, x3, y3, ...]`.\n"
   ]
  },
  {
   "cell_type": "markdown",
   "metadata": {},
   "source": [
    "The following 40 lines of the file show the sequence of items presented during\n",
    "the study phase. This is not all that important for our purposes, but\n",
    "basically the last column is which pattern was displayed (indexed from the\n",
    "patterns just described. Each of 10 \"high distortions\" were presented four\n",
    "times each during study in a random order.\n"
   ]
  },
  {
   "cell_type": "markdown",
   "metadata": {},
   "source": [
    "Finally the remaining lines of the file report the results of the test phase.\n",
    "The first column is the subject number, the second columns is the condition\n",
    "number, the next is the trial number in the experiment, the other columns\n",
    "worth mentioning are the last column (the pattern number from the beginning of\n",
    "the file), the second to last column (the type of stimulus it is according to\n",
    "the codes described above), and the reaction time in milliseconds.\n"
   ]
  },
  {
   "cell_type": "markdown",
   "metadata": {},
   "source": [
    "In addition, participants in this experiment were assigned to one of two\n",
    "conditions: a recognition condition and a categorization condition. These\n",
    "conditions differed only in the instructions given to participants at the\n",
    "start of the test phase. In the recognition condition participants were told\n",
    "they would view a series of patterns and they should respond \"yes\" only if the\n",
    "patterns was **exactly** one they say in the previous study phase. In the\n",
    "categorization condition, participants were asked to respond \"yes\" only if the\n",
    "pattern belonged to the same general category or pattern that they observed in\n",
    "the training phase.\n"
   ]
  },
  {
   "cell_type": "markdown",
   "metadata": {},
   "source": [
    "The following graph computes the probability of endorsement in the data set as\n",
    "a function of stimulus type and condition (Cat or Rec instructions).\n"
   ]
  },
  {
   "cell_type": "code",
   "execution_count": 38,
   "metadata": {},
   "outputs": [],
   "source": [
    "################################\n",
    "# getcurve\n",
    "################################\n",
    "def getcurve(filename):\n",
    "    prototypes = []\n",
    "    low = []\n",
    "    old = []\n",
    "    high = []\n",
    "    random = []\n",
    "    mydata = readfile(filename)\n",
    "    cond = mydata[-1][1]\n",
    "    for line in mydata:\n",
    "        if line[4] == 2 and len(line) == 9:\n",
    "            if line[7] == 1:\n",
    "                prototypes.append(line[5])\n",
    "            if line[7] == 2:\n",
    "                old.append(line[5])\n",
    "            if line[7] == 3:\n",
    "                high.append(line[5])\n",
    "            if line[7] == 4:\n",
    "                low.append(line[5])\n",
    "            if line[7] == 5:\n",
    "                random.append(line[5])\n",
    "\n",
    "    # print([len(prototypes), len(low), len(high), len(random), len(old)])\n",
    "    # print(prototypes)\n",
    "    # print(low)\n",
    "    # print(high)\n",
    "    # print(random)\n",
    "    # print(old)\n",
    "    return [\n",
    "        np.average(prototypes),\n",
    "        np.average(low),\n",
    "        np.average(high),\n",
    "        np.average(random),\n",
    "        np.average(old),\n",
    "        filename,\n",
    "        cond,\n",
    "    ]\n",
    "\n",
    "\n",
    "def readfile(filename):\n",
    "    results = []\n",
    "    fp = open(filename, \"r\")\n",
    "    for line in fp.readlines():\n",
    "        myline = list(map(int, line.split(\" \")[:-1]))\n",
    "        results.append(myline[:])\n",
    "    fp.close()\n",
    "    return results\n",
    "\n",
    "\n",
    "def get_all_filenames(directoryname):\n",
    "    files = filter(\n",
    "        lambda x: x[-4:] == \".dat\" and x[0] != \".\",\n",
    "        os.listdir(os.path.join(\".\", directoryname)),\n",
    "    )\n",
    "    fn = map(lambda x: os.path.join(\".\", directoryname, x), files)\n",
    "    # process each file and drop last 5 trials\n",
    "    return list(fn)\n",
    "\n",
    "\n",
    "def create_df(subjnum, cond, pattern):\n",
    "    nobs = len(pattern)\n",
    "    df = pd.DataFrame(\n",
    "        {\n",
    "            \"Subject\": [subjnum] * nobs,\n",
    "            \"Condition\": [cond] * nobs,\n",
    "            \"Stimulus Type\": [\"Prototype\", \"Low\", \"High\", \"Random\", \"Old\"],\n",
    "            \"Probability of Endorsement\": pattern,\n",
    "        }\n",
    "    )\n",
    "    return df\n",
    "\n",
    "\n",
    "def get_human_results():\n",
    "    allres = map(getcurve, get_all_filenames(\"data\"))\n",
    "    cat = []\n",
    "    rec = []\n",
    "    for patt in allres:\n",
    "        if patt[-1] == 0:\n",
    "            cat.append(create_df(patt[-2], \"cat\", patt[:-2]))\n",
    "        else:\n",
    "            rec.append(create_df(patt[-2], \"rec\", patt[:-2]))\n",
    "    cat, rec = pd.concat(cat), pd.concat(rec)\n",
    "    return pd.concat([cat, rec])"
   ]
  },
  {
   "cell_type": "code",
   "execution_count": 39,
   "metadata": {},
   "outputs": [
    {
     "data": {
      "text/plain": [
       "<Axes: xlabel='Stimulus Type', ylabel='Probability of Endorsement'>"
      ]
     },
     "execution_count": 39,
     "metadata": {},
     "output_type": "execute_result"
    },
    {
     "data": {
      "image/png": "[encoded data removed]",
      "text/plain": [
       "<Figure size 640x480 with 1 Axes>"
      ]
     },
     "metadata": {},
     "output_type": "display_data"
    }
   ],
   "source": [
    "sns.barplot(\n",
    "    x=\"Stimulus Type\",\n",
    "    y=\"Probability of Endorsement\",\n",
    "    hue=\"Condition\",\n",
    "    data=get_human_results(),\n",
    ")"
   ]
  },
  {
   "cell_type": "markdown",
   "metadata": {},
   "source": [
    "<div class=\"alert alert-success\" role=\"alert\">\n",
    "<h3> Problem 1 (20 points) </h3><br>\n",
    "Using your own words explain the data pattern you see in the above figure.  What is different between the conditions and stimulus type?  Why do you suspect these patterns exist?  Your answer will need to consider the nature of the experiments, what is manipulated, and even your intuitive psychological theory about what might be going on.  Your response should take 3-4 sentences and appear in a cell below.  Is any feature of this data surprising to you?\n",
    "</div>\n"
   ]
  },
  {
   "cell_type": "markdown",
   "metadata": {},
   "source": [
    "In cat,people are more likely to agree, regradless it is which type of pattern they faced with. This is similar to set a large k. \\\\\n",
    "Indeed, when your task is to find the exactly same thing, you become less aggressive. The strongest evidence is come from 'old', ideally two condition should face 'old' with the same attitude, but it somehow still smaller in rec condition.\\\\\n"
   ]
  },
  {
   "cell_type": "markdown",
   "metadata": {},
   "source": [
    "## Predictions for the exemplar model\n"
   ]
  },
  {
   "cell_type": "markdown",
   "metadata": {},
   "source": [
    "The following cells set up the exemplar model using the equations described\n",
    "above.\n"
   ]
  },
  {
   "cell_type": "code",
   "execution_count": 40,
   "metadata": {},
   "outputs": [],
   "source": [
    "################################\n",
    "# unitdist:\n",
    "# computes the euclidean distance between\n",
    "# two dots\n",
    "################################\n",
    "def unitdist(x, y):\n",
    "    x1 = np.array(x)\n",
    "    y1 = np.array(y)\n",
    "    return math.sqrt(sum(pow(x - y, 2.0)))\n",
    "\n",
    "\n",
    "################################\n",
    "# computeresponse\n",
    "# computes the \"activation\" of each\n",
    "# trace in memory\n",
    "################################\n",
    "def computeresponse(target, memory, c, k):\n",
    "    res = []\n",
    "    for mem in memory:\n",
    "        res.append(\n",
    "            math.log(\n",
    "                1.0 + np.average(list(map(lambda x, y: unitdist(x, y), target, mem)))\n",
    "            )\n",
    "        )\n",
    "    resp = [math.exp(-c * x) for x in res]\n",
    "    pofr = sum(resp) / (sum(resp) + k)\n",
    "    return pofr"
   ]
  },
  {
   "cell_type": "code",
   "execution_count": 41,
   "metadata": {},
   "outputs": [],
   "source": [
    "################################\n",
    "# exemplar model\n",
    "# stores all 10 study items in memory\n",
    "# and computes the probability of endorsement\n",
    "# for each item type\n",
    "################################\n",
    "\n",
    "\n",
    "def exemplarmodel(filename, c, k):\n",
    "    data = readfile(filename)\n",
    "    cond = data[-1][1]\n",
    "    memory = []\n",
    "    for line in data:\n",
    "        if len(line) == 20 and line[1] == 2:\n",
    "            memory.append(np.resize(line[2:], (9, 2)))\n",
    "    # print(memory)\n",
    "\n",
    "    # prototype items\n",
    "    proto = []\n",
    "    for line in data:\n",
    "        if len(line) == 20 and line[1] == 1:\n",
    "            item = np.resize(line[2:], (9, 2))\n",
    "            pofr = computeresponse(item, memory, c, k)\n",
    "            proto.append(pofr)\n",
    "    # print(np.average(proto))\n",
    "\n",
    "    # old items\n",
    "    old = []\n",
    "    for line in data:\n",
    "        if len(line) == 20 and line[1] == 2:\n",
    "            item = np.resize(line[2:], (9, 2))\n",
    "            pofr = computeresponse(item, memory, c, k)\n",
    "            old.append(pofr)\n",
    "    # print \"p of r\", old\n",
    "    # print(np.average(old))\n",
    "\n",
    "    # new high items\n",
    "    newhigh = []\n",
    "    for line in data:\n",
    "        if len(line) == 20 and line[1] == 3:\n",
    "            item = np.resize(line[2:], (9, 2))\n",
    "            pofr = computeresponse(item, memory, c, k)\n",
    "            newhigh.append(pofr)\n",
    "    # print(np.average(newhigh))\n",
    "\n",
    "    # new low items\n",
    "    newlow = []\n",
    "    for line in data:\n",
    "        if len(line) == 20 and line[1] == 4:\n",
    "            item = np.resize(line[2:], (9, 2))\n",
    "            pofr = computeresponse(item, memory, c, k)\n",
    "            newlow.append(pofr)\n",
    "    # print(np.average(newlow))\n",
    "\n",
    "    # random items\n",
    "    random = []\n",
    "    for line in data:\n",
    "        if len(line) == 20 and line[1] == 5:\n",
    "            item = np.resize(line[2:], (9, 2))\n",
    "            pofr = computeresponse(item, memory, c, k)\n",
    "            random.append(pofr)\n",
    "    # print(np.average(random))\n",
    "\n",
    "    return [\n",
    "        np.average(proto),\n",
    "        np.average(newlow),\n",
    "        np.average(newhigh),\n",
    "        np.average(random),\n",
    "        np.average(old),\n",
    "        filename,\n",
    "        cond,\n",
    "    ]"
   ]
  },
  {
   "cell_type": "code",
   "execution_count": 42,
   "metadata": {},
   "outputs": [],
   "source": [
    "def get_exemplar_results(c_cat, k_cat, c_rec, k_rec):\n",
    "    allres = {fn: readfile(fn) for fn in get_all_filenames(\"data\")}\n",
    "    cat = []\n",
    "    rec = []\n",
    "    for filename in allres.keys():\n",
    "        if allres[filename][-1][1] == 0:\n",
    "            res = exemplarmodel(filename, c_cat, k_cat)\n",
    "            cat.append(create_df(filename, \"cat\", res[:-2]))\n",
    "        else:\n",
    "            res = exemplarmodel(filename, c_rec, k_rec)\n",
    "            rec.append(create_df(filename, \"rec\", res[:-2]))\n",
    "    cat, rec = pd.concat(cat), pd.concat(rec)\n",
    "    return pd.concat([cat, rec])"
   ]
  },
  {
   "cell_type": "markdown",
   "metadata": {},
   "source": [
    "First let's replot the human results:\n"
   ]
  },
  {
   "cell_type": "code",
   "execution_count": 43,
   "metadata": {},
   "outputs": [
    {
     "data": {
      "text/plain": [
       "<Axes: xlabel='Stimulus Type', ylabel='Probability of Endorsement'>"
      ]
     },
     "execution_count": 43,
     "metadata": {},
     "output_type": "execute_result"
    },
    {
     "data": {
      "image/png": "[encoded data removed]",
      "text/plain": [
       "<Figure size 640x480 with 1 Axes>"
      ]
     },
     "metadata": {},
     "output_type": "display_data"
    }
   ],
   "source": [
    "sns.barplot(\n",
    "    x=\"Stimulus Type\",\n",
    "    y=\"Probability of Endorsement\",\n",
    "    hue=\"Condition\",\n",
    "    data=get_human_results(),\n",
    ")"
   ]
  },
  {
   "cell_type": "markdown",
   "metadata": {},
   "source": [
    "<div class=\"alert alert-success\" role=\"alert\">\n",
    "<h3> Problem 2 (10 points) </h3><br>\n",
    "By hand adjust the setting of the model parameters to roughly fit the human data pattern shown above.  How close can you get?  What parameters did you find (report them) and you assessmnet of how well they fit.  Was it a good fit or are there systematic problems with the fit?  In addition, what are the parameter values and do they make sense in light of the equations described above?  When the parameters are the same for recognition and categorization instructions why do the bars look a little different?</div>\n"
   ]
  },
  {
   "cell_type": "markdown",
   "metadata": {},
   "source": [
    "c_cat, k_cat, c_rec, k_rec = 2, 0.1, 1.5, 1.2 \\\\\n",
    "\n",
    "we can handle the general height of a bar, or the relative distance among different stimulus type. however the order of the bar(Which stimulus type is rank highest and which is lowest) is hard to change (it can mathmatically, but in our example it is not).\\\\\n",
    "\n",
    "We see that k is used to describe how not aggressive you are to answer \"yes\", it can be refer as the tolerate (Alpha) of type one error when the null is \"The simulus type is not the same as train\"\n",
    "\n",
    "c here is to describe how you summarize the similarities. When c is large, you basically only consider the largest similarity, when c is small, well, it may not be a good idea because you are try to smooth all the similarity and set them to a constant.\n",
    "\n",
    "When parameter is the same, the bar is different, this should come from data varance. If have infinite experiment, this difference should disappear.\n"
   ]
  },
  {
   "cell_type": "markdown",
   "metadata": {},
   "source": [
    "The following cell lets you plot the model predictions for the exemplar model\n",
    "fitted to the stimuli that participants in this experiment actually viewed.\n",
    "There is a $k$ and a $c$ parameter for both categorization and recogniton.\n"
   ]
  },
  {
   "cell_type": "code",
   "execution_count": 83,
   "metadata": {},
   "outputs": [
    {
     "data": {
      "text/plain": [
       "<Axes: xlabel='Stimulus Type', ylabel='Probability of Endorsement'>"
      ]
     },
     "execution_count": 83,
     "metadata": {},
     "output_type": "execute_result"
    },
    {
     "data": {
      "image/png": "[encoded data removed]",
      "text/plain": [
       "<Figure size 640x480 with 1 Axes>"
      ]
     },
     "metadata": {},
     "output_type": "display_data"
    }
   ],
   "source": [
    "c_cat, k_cat, c_rec, k_rec = 2, 0.1, 1.5, 1.2\n",
    "sns.barplot(\n",
    "    x=\"Stimulus Type\",\n",
    "    y=\"Probability of Endorsement\",\n",
    "    hue=\"Condition\",\n",
    "    data=get_exemplar_results(c_cat, k_cat, c_rec, k_rec),\n",
    ")"
   ]
  },
  {
   "cell_type": "markdown",
   "metadata": {},
   "source": [
    "## Predictions for the prototype model\n"
   ]
  },
  {
   "cell_type": "markdown",
   "metadata": {},
   "source": [
    "The following cells set up the prototype model using the equations described\n",
    "above.\n"
   ]
  },
  {
   "cell_type": "code",
   "execution_count": 84,
   "metadata": {},
   "outputs": [],
   "source": [
    "################################\n",
    "# prototype model\n",
    "# stores an averate of the study items in memory\n",
    "# and computes the probability of endorsement\n",
    "# for each item type\n",
    "################################\n",
    "def prototypemodel(filename, c, k):\n",
    "    data = readfile(filename)\n",
    "    cond = data[-1][1]\n",
    "    # average all the old items in memory\n",
    "    memory = []\n",
    "    for line in data:\n",
    "        if len(line) == 20 and line[1] == 2:\n",
    "            memory.append(line[2:])\n",
    "    memory = [np.resize(list(map(np.average, np.transpose(np.array(memory)))), (9, 2))]\n",
    "\n",
    "    # prototype items\n",
    "    proto = []\n",
    "    for line in data:\n",
    "        if len(line) == 20 and line[1] == 1:\n",
    "            item = np.resize(line[2:], (9, 2))\n",
    "            pofr = computeresponse(item, memory, c, k)\n",
    "            proto.append(pofr)\n",
    "    # print(np.average(proto))\n",
    "\n",
    "    # old items\n",
    "    old = []\n",
    "    for line in data:\n",
    "        if len(line) == 20 and line[1] == 2:\n",
    "            item = np.resize(line[2:], (9, 2))\n",
    "            pofr = computeresponse(item, memory, c, k)\n",
    "            old.append(pofr)\n",
    "    # print \"p of r\", old\n",
    "    # print(np.average(old))\n",
    "\n",
    "    # new high items\n",
    "    newhigh = []\n",
    "    for line in data:\n",
    "        if len(line) == 20 and line[1] == 3:\n",
    "            item = np.resize(line[2:], (9, 2))\n",
    "            pofr = computeresponse(item, memory, c, k)\n",
    "            newhigh.append(pofr)\n",
    "    # print(np.average(newhigh))\n",
    "\n",
    "    # new low items\n",
    "    newlow = []\n",
    "    for line in data:\n",
    "        if len(line) == 20 and line[1] == 4:\n",
    "            item = np.resize(line[2:], (9, 2))\n",
    "            pofr = computeresponse(item, memory, c, k)\n",
    "            newlow.append(pofr)\n",
    "    # print(np.average(newlow))\n",
    "\n",
    "    # random items\n",
    "    random = []\n",
    "    for line in data:\n",
    "        if len(line) == 20 and line[1] == 5:\n",
    "            item = np.resize(line[2:], (9, 2))\n",
    "            pofr = computeresponse(item, memory, c, k)\n",
    "            random.append(pofr)\n",
    "    # print(np.average(random))\n",
    "\n",
    "    return [\n",
    "        np.average(proto),\n",
    "        np.average(newlow),\n",
    "        np.average(newhigh),\n",
    "        np.average(random),\n",
    "        np.average(old),\n",
    "        filename,\n",
    "        cond,\n",
    "    ]"
   ]
  },
  {
   "cell_type": "code",
   "execution_count": 85,
   "metadata": {},
   "outputs": [],
   "source": [
    "def get_prototype_results(c_cat, k_cat, c_rec, k_rec):\n",
    "    allres = {fn: readfile(fn) for fn in get_all_filenames(\"data\")}\n",
    "    cat = []\n",
    "    rec = []\n",
    "    for filename in allres.keys():\n",
    "        if allres[filename][-1][1] == 0:\n",
    "            res = prototypemodel(filename, c_cat, k_cat)\n",
    "            cat.append(create_df(filename, \"cat\", res[:-2]))\n",
    "        else:\n",
    "            res = prototypemodel(filename, c_rec, k_rec)\n",
    "            rec.append(create_df(filename, \"rec\", res[:-2]))\n",
    "    cat, rec = pd.concat(cat), pd.concat(rec)\n",
    "    return pd.concat([cat, rec])"
   ]
  },
  {
   "cell_type": "markdown",
   "metadata": {},
   "source": [
    "Again lets replot the human results for easy reference.\n"
   ]
  },
  {
   "cell_type": "code",
   "execution_count": 86,
   "metadata": {},
   "outputs": [
    {
     "data": {
      "text/plain": [
       "<Axes: xlabel='Stimulus Type', ylabel='Probability of Endorsement'>"
      ]
     },
     "execution_count": 86,
     "metadata": {},
     "output_type": "execute_result"
    },
    {
     "data": {
      "image/png": "[encoded data removed]",
      "text/plain": [
       "<Figure size 640x480 with 1 Axes>"
      ]
     },
     "metadata": {},
     "output_type": "display_data"
    }
   ],
   "source": [
    "sns.barplot(\n",
    "    x=\"Stimulus Type\",\n",
    "    y=\"Probability of Endorsement\",\n",
    "    hue=\"Condition\",\n",
    "    data=get_human_results(),\n",
    ")"
   ]
  },
  {
   "cell_type": "markdown",
   "metadata": {},
   "source": [
    "<div class=\"alert alert-success\" role=\"alert\">\n",
    "<h3> Problem 3 (10 points) </h3><br>\n",
    "By hand adjust the setting of the model parameters in the next cell to roughly fit the human data pattern shown above.  How close can you get?  What parameters did you find (report them) and you assessment of how well they fit.  Was it a good fit or are there systematic problems with the fit?  In addition, what are the parameter values and do they make sense in light of the equations described above?</div>\n"
   ]
  },
  {
   "cell_type": "markdown",
   "metadata": {},
   "source": [
    "There are not much difference for explaination of parameters. \\\\\n",
    "Here it is more clear that k control how you likely to agree, and c control how you are sensetive to the similarity. A large c means you are very sensetive and even small similiarty different would lead you to a different result.\\\\\n",
    "And here it is for sure that the order is fixed no matter how you change the parameters"
   ]
  },
  {
   "cell_type": "code",
   "execution_count": 99,
   "metadata": {},
   "outputs": [
    {
     "data": {
      "text/plain": [
       "<Axes: xlabel='Stimulus Type', ylabel='Probability of Endorsement'>"
      ]
     },
     "execution_count": 99,
     "metadata": {},
     "output_type": "execute_result"
    },
    {
     "data": {
      "image/png": "[encoded data removed]",
      "text/plain": [
       "<Figure size 640x480 with 1 Axes>"
      ]
     },
     "metadata": {},
     "output_type": "display_data"
    }
   ],
   "source": [
    "c_cat, k_cat, c_rec, k_rec = 1.0, 0.2, 2, 0.2\n",
    "res = get_prototype_results(c_cat, k_cat, c_rec, k_rec)\n",
    "sns.barplot(\n",
    "    x=\"Stimulus Type\", y=\"Probability of Endorsement\", hue=\"Condition\", data=res\n",
    ")"
   ]
  },
  {
   "cell_type": "markdown",
   "metadata": {},
   "source": [
    "## Fitting the models using RMSE\n"
   ]
  },
  {
   "cell_type": "markdown",
   "metadata": {},
   "source": [
    "Next we would like to come up with a more quantitative way to assess the\n",
    "quality of the model fits. The first technique we will use is the \"goodness of\n",
    "fit\" measures that were discussed in lecture. One of the most common measures\n",
    "of goodness of fit is the Root Mean Squared Error (RMSE). This measure\n",
    "compares the value of each data point $x$ to each prediction $y$ using the\n",
    "following equation:\n",
    "\n",
    "$\\Large RMSE = \\sqrt{\\frac{\\sum_i (x_i - y_i)^2}{N}}$\n",
    "\n"
   ]
  },
  {
   "cell_type": "markdown",
   "metadata": {},
   "source": [
    "Often the RMSE is computed between the AVERAGE prediction of the model and the\n",
    "AVERAGE estimates of the behavior to all the subjects in an experiment. Using\n",
    "the code we developed above we can find the average endorsement curves for\n",
    "humans and both models like this:\n"
   ]
  },
  {
   "cell_type": "code",
   "execution_count": 100,
   "metadata": {},
   "outputs": [],
   "source": [
    "human_results = get_human_results()\n",
    "exemplar_predictions = get_exemplar_results(c_cat, k_cat, c_rec, k_rec)\n",
    "prototype_predictions = get_prototype_results(c_cat, k_cat, c_rec, k_rec)"
   ]
  },
  {
   "cell_type": "code",
   "execution_count": 103,
   "metadata": {},
   "outputs": [
    {
     "data": {
      "text/html": [
       "<div>\n",
       "<style scoped>\n",
       "    .dataframe tbody tr th:only-of-type {\n",
       "        vertical-align: middle;\n",
       "    }\n",
       "\n",
       "    .dataframe tbody tr th {\n",
       "        vertical-align: top;\n",
       "    }\n",
       "\n",
       "    .dataframe thead th {\n",
       "        text-align: right;\n",
       "    }\n",
       "</style>\n",
       "<table border=\"1\" class=\"dataframe\">\n",
       "  <thead>\n",
       "    <tr style=\"text-align: right;\">\n",
       "      <th></th>\n",
       "      <th>Subject</th>\n",
       "      <th>Condition</th>\n",
       "      <th>Stimulus Type</th>\n",
       "      <th>Probability of Endorsement</th>\n",
       "    </tr>\n",
       "  </thead>\n",
       "  <tbody>\n",
       "    <tr>\n",
       "      <th>0</th>\n",
       "      <td>.\\data\\10.dat</td>\n",
       "      <td>cat</td>\n",
       "      <td>Prototype</td>\n",
       "      <td>1.00</td>\n",
       "    </tr>\n",
       "    <tr>\n",
       "      <th>1</th>\n",
       "      <td>.\\data\\10.dat</td>\n",
       "      <td>cat</td>\n",
       "      <td>Low</td>\n",
       "      <td>0.75</td>\n",
       "    </tr>\n",
       "    <tr>\n",
       "      <th>2</th>\n",
       "      <td>.\\data\\10.dat</td>\n",
       "      <td>cat</td>\n",
       "      <td>High</td>\n",
       "      <td>0.40</td>\n",
       "    </tr>\n",
       "    <tr>\n",
       "      <th>3</th>\n",
       "      <td>.\\data\\10.dat</td>\n",
       "      <td>cat</td>\n",
       "      <td>Random</td>\n",
       "      <td>0.05</td>\n",
       "    </tr>\n",
       "    <tr>\n",
       "      <th>4</th>\n",
       "      <td>.\\data\\10.dat</td>\n",
       "      <td>cat</td>\n",
       "      <td>Old</td>\n",
       "      <td>0.80</td>\n",
       "    </tr>\n",
       "    <tr>\n",
       "      <th>...</th>\n",
       "      <td>...</td>\n",
       "      <td>...</td>\n",
       "      <td>...</td>\n",
       "      <td>...</td>\n",
       "    </tr>\n",
       "    <tr>\n",
       "      <th>0</th>\n",
       "      <td>.\\data\\9.dat</td>\n",
       "      <td>rec</td>\n",
       "      <td>Prototype</td>\n",
       "      <td>1.00</td>\n",
       "    </tr>\n",
       "    <tr>\n",
       "      <th>1</th>\n",
       "      <td>.\\data\\9.dat</td>\n",
       "      <td>rec</td>\n",
       "      <td>Low</td>\n",
       "      <td>0.75</td>\n",
       "    </tr>\n",
       "    <tr>\n",
       "      <th>2</th>\n",
       "      <td>.\\data\\9.dat</td>\n",
       "      <td>rec</td>\n",
       "      <td>High</td>\n",
       "      <td>0.20</td>\n",
       "    </tr>\n",
       "    <tr>\n",
       "      <th>3</th>\n",
       "      <td>.\\data\\9.dat</td>\n",
       "      <td>rec</td>\n",
       "      <td>Random</td>\n",
       "      <td>0.10</td>\n",
       "    </tr>\n",
       "    <tr>\n",
       "      <th>4</th>\n",
       "      <td>.\\data\\9.dat</td>\n",
       "      <td>rec</td>\n",
       "      <td>Old</td>\n",
       "      <td>0.80</td>\n",
       "    </tr>\n",
       "  </tbody>\n",
       "</table>\n",
       "<p>70 rows × 4 columns</p>\n",
       "</div>"
      ],
      "text/plain": [
       "          Subject Condition Stimulus Type  Probability of Endorsement\n",
       "0   .\\data\\10.dat       cat     Prototype                        1.00\n",
       "1   .\\data\\10.dat       cat           Low                        0.75\n",
       "2   .\\data\\10.dat       cat          High                        0.40\n",
       "3   .\\data\\10.dat       cat        Random                        0.05\n",
       "4   .\\data\\10.dat       cat           Old                        0.80\n",
       "..            ...       ...           ...                         ...\n",
       "0    .\\data\\9.dat       rec     Prototype                        1.00\n",
       "1    .\\data\\9.dat       rec           Low                        0.75\n",
       "2    .\\data\\9.dat       rec          High                        0.20\n",
       "3    .\\data\\9.dat       rec        Random                        0.10\n",
       "4    .\\data\\9.dat       rec           Old                        0.80\n",
       "\n",
       "[70 rows x 4 columns]"
      ]
     },
     "execution_count": 103,
     "metadata": {},
     "output_type": "execute_result"
    }
   ],
   "source": [
    "human_results"
   ]
  },
  {
   "cell_type": "code",
   "execution_count": 104,
   "metadata": {},
   "outputs": [
    {
     "data": {
      "text/html": [
       "<div>\n",
       "<style scoped>\n",
       "    .dataframe tbody tr th:only-of-type {\n",
       "        vertical-align: middle;\n",
       "    }\n",
       "\n",
       "    .dataframe tbody tr th {\n",
       "        vertical-align: top;\n",
       "    }\n",
       "\n",
       "    .dataframe thead th {\n",
       "        text-align: right;\n",
       "    }\n",
       "</style>\n",
       "<table border=\"1\" class=\"dataframe\">\n",
       "  <thead>\n",
       "    <tr style=\"text-align: right;\">\n",
       "      <th></th>\n",
       "      <th>Condition</th>\n",
       "      <th>Stimulus Type</th>\n",
       "      <th>Probability of Endorsement</th>\n",
       "    </tr>\n",
       "  </thead>\n",
       "  <tbody>\n",
       "    <tr>\n",
       "      <th>0</th>\n",
       "      <td>cat</td>\n",
       "      <td>High</td>\n",
       "      <td>0.700000</td>\n",
       "    </tr>\n",
       "    <tr>\n",
       "      <th>1</th>\n",
       "      <td>cat</td>\n",
       "      <td>Low</td>\n",
       "      <td>0.928571</td>\n",
       "    </tr>\n",
       "    <tr>\n",
       "      <th>2</th>\n",
       "      <td>cat</td>\n",
       "      <td>Old</td>\n",
       "      <td>0.785714</td>\n",
       "    </tr>\n",
       "    <tr>\n",
       "      <th>3</th>\n",
       "      <td>cat</td>\n",
       "      <td>Prototype</td>\n",
       "      <td>0.892857</td>\n",
       "    </tr>\n",
       "    <tr>\n",
       "      <th>4</th>\n",
       "      <td>cat</td>\n",
       "      <td>Random</td>\n",
       "      <td>0.264286</td>\n",
       "    </tr>\n",
       "    <tr>\n",
       "      <th>5</th>\n",
       "      <td>rec</td>\n",
       "      <td>High</td>\n",
       "      <td>0.285714</td>\n",
       "    </tr>\n",
       "    <tr>\n",
       "      <th>6</th>\n",
       "      <td>rec</td>\n",
       "      <td>Low</td>\n",
       "      <td>0.571429</td>\n",
       "    </tr>\n",
       "    <tr>\n",
       "      <th>7</th>\n",
       "      <td>rec</td>\n",
       "      <td>Old</td>\n",
       "      <td>0.635714</td>\n",
       "    </tr>\n",
       "    <tr>\n",
       "      <th>8</th>\n",
       "      <td>rec</td>\n",
       "      <td>Prototype</td>\n",
       "      <td>0.642857</td>\n",
       "    </tr>\n",
       "    <tr>\n",
       "      <th>9</th>\n",
       "      <td>rec</td>\n",
       "      <td>Random</td>\n",
       "      <td>0.050000</td>\n",
       "    </tr>\n",
       "  </tbody>\n",
       "</table>\n",
       "</div>"
      ],
      "text/plain": [
       "  Condition Stimulus Type  Probability of Endorsement\n",
       "0       cat          High                    0.700000\n",
       "1       cat           Low                    0.928571\n",
       "2       cat           Old                    0.785714\n",
       "3       cat     Prototype                    0.892857\n",
       "4       cat        Random                    0.264286\n",
       "5       rec          High                    0.285714\n",
       "6       rec           Low                    0.571429\n",
       "7       rec           Old                    0.635714\n",
       "8       rec     Prototype                    0.642857\n",
       "9       rec        Random                    0.050000"
      ]
     },
     "execution_count": 104,
     "metadata": {},
     "output_type": "execute_result"
    }
   ],
   "source": [
    "avghuman = human_results.groupby([\"Condition\", \"Stimulus Type\"], as_index=False)['Probability of Endorsement'].mean()\n",
    "avghuman"
   ]
  },
  {
   "cell_type": "code",
   "execution_count": 105,
   "metadata": {},
   "outputs": [
    {
     "data": {
      "text/html": [
       "<div>\n",
       "<style scoped>\n",
       "    .dataframe tbody tr th:only-of-type {\n",
       "        vertical-align: middle;\n",
       "    }\n",
       "\n",
       "    .dataframe tbody tr th {\n",
       "        vertical-align: top;\n",
       "    }\n",
       "\n",
       "    .dataframe thead th {\n",
       "        text-align: right;\n",
       "    }\n",
       "</style>\n",
       "<table border=\"1\" class=\"dataframe\">\n",
       "  <thead>\n",
       "    <tr style=\"text-align: right;\">\n",
       "      <th></th>\n",
       "      <th>Condition</th>\n",
       "      <th>Stimulus Type</th>\n",
       "      <th>Probability of Endorsement</th>\n",
       "    </tr>\n",
       "  </thead>\n",
       "  <tbody>\n",
       "    <tr>\n",
       "      <th>0</th>\n",
       "      <td>cat</td>\n",
       "      <td>High</td>\n",
       "      <td>0.901581</td>\n",
       "    </tr>\n",
       "    <tr>\n",
       "      <th>1</th>\n",
       "      <td>cat</td>\n",
       "      <td>Low</td>\n",
       "      <td>0.916855</td>\n",
       "    </tr>\n",
       "    <tr>\n",
       "      <th>2</th>\n",
       "      <td>cat</td>\n",
       "      <td>Old</td>\n",
       "      <td>0.928675</td>\n",
       "    </tr>\n",
       "    <tr>\n",
       "      <th>3</th>\n",
       "      <td>cat</td>\n",
       "      <td>Prototype</td>\n",
       "      <td>0.925731</td>\n",
       "    </tr>\n",
       "    <tr>\n",
       "      <th>4</th>\n",
       "      <td>cat</td>\n",
       "      <td>Random</td>\n",
       "      <td>0.740851</td>\n",
       "    </tr>\n",
       "    <tr>\n",
       "      <th>5</th>\n",
       "      <td>rec</td>\n",
       "      <td>High</td>\n",
       "      <td>0.661445</td>\n",
       "    </tr>\n",
       "    <tr>\n",
       "      <th>6</th>\n",
       "      <td>rec</td>\n",
       "      <td>Low</td>\n",
       "      <td>0.747924</td>\n",
       "    </tr>\n",
       "    <tr>\n",
       "      <th>7</th>\n",
       "      <td>rec</td>\n",
       "      <td>Old</td>\n",
       "      <td>0.873889</td>\n",
       "    </tr>\n",
       "    <tr>\n",
       "      <th>8</th>\n",
       "      <td>rec</td>\n",
       "      <td>Prototype</td>\n",
       "      <td>0.798523</td>\n",
       "    </tr>\n",
       "    <tr>\n",
       "      <th>9</th>\n",
       "      <td>rec</td>\n",
       "      <td>Random</td>\n",
       "      <td>0.140143</td>\n",
       "    </tr>\n",
       "  </tbody>\n",
       "</table>\n",
       "</div>"
      ],
      "text/plain": [
       "  Condition Stimulus Type  Probability of Endorsement\n",
       "0       cat          High                    0.901581\n",
       "1       cat           Low                    0.916855\n",
       "2       cat           Old                    0.928675\n",
       "3       cat     Prototype                    0.925731\n",
       "4       cat        Random                    0.740851\n",
       "5       rec          High                    0.661445\n",
       "6       rec           Low                    0.747924\n",
       "7       rec           Old                    0.873889\n",
       "8       rec     Prototype                    0.798523\n",
       "9       rec        Random                    0.140143"
      ]
     },
     "execution_count": 105,
     "metadata": {},
     "output_type": "execute_result"
    }
   ],
   "source": [
    "avgexemplar = exemplar_predictions.groupby(\n",
    "    [\"Condition\", \"Stimulus Type\"], as_index=False\n",
    ")['Probability of Endorsement'].mean()\n",
    "avgexemplar"
   ]
  },
  {
   "cell_type": "code",
   "execution_count": 106,
   "metadata": {},
   "outputs": [
    {
     "data": {
      "text/html": [
       "<div>\n",
       "<style scoped>\n",
       "    .dataframe tbody tr th:only-of-type {\n",
       "        vertical-align: middle;\n",
       "    }\n",
       "\n",
       "    .dataframe tbody tr th {\n",
       "        vertical-align: top;\n",
       "    }\n",
       "\n",
       "    .dataframe thead th {\n",
       "        text-align: right;\n",
       "    }\n",
       "</style>\n",
       "<table border=\"1\" class=\"dataframe\">\n",
       "  <thead>\n",
       "    <tr style=\"text-align: right;\">\n",
       "      <th></th>\n",
       "      <th>Condition</th>\n",
       "      <th>Stimulus Type</th>\n",
       "      <th>Probability of Endorsement</th>\n",
       "    </tr>\n",
       "  </thead>\n",
       "  <tbody>\n",
       "    <tr>\n",
       "      <th>0</th>\n",
       "      <td>cat</td>\n",
       "      <td>High</td>\n",
       "      <td>0.548537</td>\n",
       "    </tr>\n",
       "    <tr>\n",
       "      <th>1</th>\n",
       "      <td>cat</td>\n",
       "      <td>Low</td>\n",
       "      <td>0.632981</td>\n",
       "    </tr>\n",
       "    <tr>\n",
       "      <th>2</th>\n",
       "      <td>cat</td>\n",
       "      <td>Old</td>\n",
       "      <td>0.553178</td>\n",
       "    </tr>\n",
       "    <tr>\n",
       "      <th>3</th>\n",
       "      <td>cat</td>\n",
       "      <td>Prototype</td>\n",
       "      <td>0.697854</td>\n",
       "    </tr>\n",
       "    <tr>\n",
       "      <th>4</th>\n",
       "      <td>cat</td>\n",
       "      <td>Random</td>\n",
       "      <td>0.227565</td>\n",
       "    </tr>\n",
       "    <tr>\n",
       "      <th>5</th>\n",
       "      <td>rec</td>\n",
       "      <td>High</td>\n",
       "      <td>0.237596</td>\n",
       "    </tr>\n",
       "    <tr>\n",
       "      <th>6</th>\n",
       "      <td>rec</td>\n",
       "      <td>Low</td>\n",
       "      <td>0.387281</td>\n",
       "    </tr>\n",
       "    <tr>\n",
       "      <th>7</th>\n",
       "      <td>rec</td>\n",
       "      <td>Old</td>\n",
       "      <td>0.279067</td>\n",
       "    </tr>\n",
       "    <tr>\n",
       "      <th>8</th>\n",
       "      <td>rec</td>\n",
       "      <td>Prototype</td>\n",
       "      <td>0.540994</td>\n",
       "    </tr>\n",
       "    <tr>\n",
       "      <th>9</th>\n",
       "      <td>rec</td>\n",
       "      <td>Random</td>\n",
       "      <td>0.016756</td>\n",
       "    </tr>\n",
       "  </tbody>\n",
       "</table>\n",
       "</div>"
      ],
      "text/plain": [
       "  Condition Stimulus Type  Probability of Endorsement\n",
       "0       cat          High                    0.548537\n",
       "1       cat           Low                    0.632981\n",
       "2       cat           Old                    0.553178\n",
       "3       cat     Prototype                    0.697854\n",
       "4       cat        Random                    0.227565\n",
       "5       rec          High                    0.237596\n",
       "6       rec           Low                    0.387281\n",
       "7       rec           Old                    0.279067\n",
       "8       rec     Prototype                    0.540994\n",
       "9       rec        Random                    0.016756"
      ]
     },
     "execution_count": 106,
     "metadata": {},
     "output_type": "execute_result"
    }
   ],
   "source": [
    "avgprototype = prototype_predictions.groupby(\n",
    "    [\"Condition\", \"Stimulus Type\"], as_index=False\n",
    ")['Probability of Endorsement'].mean()\n",
    "avgprototype"
   ]
  },
  {
   "cell_type": "markdown",
   "metadata": {},
   "source": [
    "<div class=\"alert alert-success\" role=\"alert\">\n",
    "<h3> Problem 4 (20 points) </h3><br>\n",
    "First, write a function below called `rmse` that computes the RMSE between two `numpy` vectors.  \n",
    "</div>\n"
   ]
  },
  {
   "cell_type": "code",
   "execution_count": 107,
   "metadata": {},
   "outputs": [],
   "source": [
    "# For Ray\n",
    "def rmse(human, model):\n",
    "    x = human\n",
    "    y = model\n",
    "    return math.sqrt(sum(pow(x - y, 2.0)))"
   ]
  },
  {
   "cell_type": "code",
   "execution_count": null,
   "metadata": {},
   "outputs": [],
   "source": [
    "# For ziqing\n",
    "def rmse(human, model):\n",
    "    return math.sqrt(sum(pow(human - model, 2.0))/len(human))"
   ]
  },
  {
   "cell_type": "markdown",
   "metadata": {},
   "source": [
    "Write your code above. This code will then by used in the provided functions\n",
    "below to evaluate the fit of the prototype and exemplar models. The parameters\n",
    "to the model is provided as a list with `[c_cat, k_cat, c_rec, k_rec]` the\n",
    "implied order.\n"
   ]
  },
  {
   "cell_type": "code",
   "execution_count": 108,
   "metadata": {},
   "outputs": [],
   "source": [
    "def fit_exemplar_model_rmse(params, human_results):\n",
    "    [c_cat, k_cat, c_rec, k_rec] = params\n",
    "    predictions = get_exemplar_results(c_cat, k_cat, c_rec, k_rec)\n",
    "    avgpredict = predictions.groupby(\n",
    "        [\"Condition\", \"Stimulus Type\"], as_index=False\n",
    "    )['Probability of Endorsement'].mean()\n",
    "    model_results = avgpredict[\"Probability of Endorsement\"].values\n",
    "    return rmse(human_results, model_results)\n",
    "\n",
    "\n",
    "def fit_prototype_model_rmse(params, human_results):\n",
    "    [c_cat, k_cat, c_rec, k_rec] = params\n",
    "    predictions = get_prototype_results(c_cat, k_cat, c_rec, k_rec)\n",
    "    avgpredict = predictions.groupby(\n",
    "        [\"Condition\", \"Stimulus Type\"], as_index=False\n",
    "    )['Probability of Endorsement'].mean()\n",
    "    model_results = avgpredict[\"Probability of Endorsement\"].values\n",
    "    return rmse(human_results, model_results)"
   ]
  },
  {
   "cell_type": "code",
   "execution_count": 125,
   "metadata": {},
   "outputs": [
    {
     "name": "stdout",
     "output_type": "stream",
     "text": [
      "1.1461626322077978\n",
      "1.1993608492945793\n"
     ]
    }
   ],
   "source": [
    "# For Ray\n",
    "human_results = get_human_results()\n",
    "avghuman = human_results.groupby([\"Condition\", \"Stimulus Type\"], as_index=False)['Probability of Endorsement'].mean()\n",
    "human_results = avghuman[\"Probability of Endorsement\"].values\n",
    "\n",
    "para_exe=[1, 2.0, 0.1, 2.0]\n",
    "para_pro=[0.1, 2.0, 0.1, 2.0]\n",
    "print(fit_exemplar_model_rmse(para_exe, human_results))\n",
    "print(fit_prototype_model_rmse(para_pro, human_results))"
   ]
  },
  {
   "cell_type": "code",
   "execution_count": null,
   "metadata": {},
   "outputs": [],
   "source": [
    "# For ziqing\n",
    "exe_para=[1, 2.0, 0.1, 2.0]\n",
    "pro_para=[0.1, 2.0, 0.1, 2.0]\n",
    "human_results = get_human_results()\n",
    "avghuman = human_results.groupby([\"Condition\", \"Stimulus Type\"], as_index=False)['Probability of Endorsement'].mean()\n",
    "human_results = avghuman[\"Probability of Endorsement\"].values\n",
    "print(fit_exemplar_model_rmse(exe_para, human_results))\n",
    "print(fit_prototype_model_rmse(pro_para, human_results))"
   ]
  },
  {
   "cell_type": "markdown",
   "metadata": {},
   "source": [
    "<div class=\"alert alert-success\" role=\"alert\">\n",
    "Next adjust the parameters by hand for both the exemplar and prototype models to find values that appear to minimize the RMSE.  Copy the code above for plotting the predictions of the models given your best fit parameters.   Which model do you think fits better according to this fit statistic?\n",
    "</div>\n"
   ]
  },
  {
   "cell_type": "markdown",
   "metadata": {},
   "source": [
    "The first one do a better job"
   ]
  },
  {
   "cell_type": "markdown",
   "metadata": {},
   "source": [
    "<div class=\"alert alert-success\" role=\"alert\">\n",
    "<h3> Problem 5 (10 points) </h3><br>\n",
    "Read about the scipy `fmin` function.  Use fmin to algorithmically search for the best parameters for each model using the RMSE evaluation function described above.\n",
    "</div>\n"
   ]
  },
  {
   "cell_type": "code",
   "execution_count": 111,
   "metadata": {},
   "outputs": [
    {
     "ename": "KeyboardInterrupt",
     "evalue": "",
     "output_type": "error",
     "traceback": [
      "\u001b[1;31m---------------------------------------------------------------------------\u001b[0m",
      "\u001b[1;31mKeyboardInterrupt\u001b[0m                         Traceback (most recent call last)",
      "Cell \u001b[1;32mIn[111], line 6\u001b[0m\n\u001b[0;32m      3\u001b[0m \u001b[38;5;28;01mdef\u001b[39;00m \u001b[38;5;21mfindbestexp\u001b[39m(para):\n\u001b[0;32m      4\u001b[0m     \u001b[38;5;28;01mreturn\u001b[39;00m fit_exemplar_model_rmse(para, human_results)\n\u001b[1;32m----> 6\u001b[0m result \u001b[38;5;241m=\u001b[39m minimize(findbestexp, initial_guess, method\u001b[38;5;241m=\u001b[39m\u001b[38;5;124m'\u001b[39m\u001b[38;5;124mNelder-Mead\u001b[39m\u001b[38;5;124m'\u001b[39m)\n\u001b[0;32m      7\u001b[0m fmin_para\u001b[38;5;241m=\u001b[39mresult\u001b[38;5;241m.\u001b[39mx\n\u001b[0;32m      8\u001b[0m fmin_para\u001b[38;5;241m=\u001b[39mresult\u001b[38;5;241m.\u001b[39mfun\n",
      "File \u001b[1;32mc:\\Users\\12943\\anaconda3\\Lib\\site-packages\\scipy\\optimize\\_minimize.py:698\u001b[0m, in \u001b[0;36mminimize\u001b[1;34m(fun, x0, args, method, jac, hess, hessp, bounds, constraints, tol, callback, options)\u001b[0m\n\u001b[0;32m    695\u001b[0m callback \u001b[38;5;241m=\u001b[39m _wrap_callback(callback, meth)\n\u001b[0;32m    697\u001b[0m \u001b[38;5;28;01mif\u001b[39;00m meth \u001b[38;5;241m==\u001b[39m \u001b[38;5;124m'\u001b[39m\u001b[38;5;124mnelder-mead\u001b[39m\u001b[38;5;124m'\u001b[39m:\n\u001b[1;32m--> 698\u001b[0m     res \u001b[38;5;241m=\u001b[39m _minimize_neldermead(fun, x0, args, callback, bounds\u001b[38;5;241m=\u001b[39mbounds,\n\u001b[0;32m    699\u001b[0m                                \u001b[38;5;241m*\u001b[39m\u001b[38;5;241m*\u001b[39moptions)\n\u001b[0;32m    700\u001b[0m \u001b[38;5;28;01melif\u001b[39;00m meth \u001b[38;5;241m==\u001b[39m \u001b[38;5;124m'\u001b[39m\u001b[38;5;124mpowell\u001b[39m\u001b[38;5;124m'\u001b[39m:\n\u001b[0;32m    701\u001b[0m     res \u001b[38;5;241m=\u001b[39m _minimize_powell(fun, x0, args, callback, bounds, \u001b[38;5;241m*\u001b[39m\u001b[38;5;241m*\u001b[39moptions)\n",
      "File \u001b[1;32mc:\\Users\\12943\\anaconda3\\Lib\\site-packages\\scipy\\optimize\\_optimize.py:924\u001b[0m, in \u001b[0;36m_minimize_neldermead\u001b[1;34m(func, x0, args, callback, maxiter, maxfev, disp, return_all, initial_simplex, xatol, fatol, adaptive, bounds, **unknown_options)\u001b[0m\n\u001b[0;32m    922\u001b[0m \u001b[38;5;28;01mif\u001b[39;00m bounds \u001b[38;5;129;01mis\u001b[39;00m \u001b[38;5;129;01mnot\u001b[39;00m \u001b[38;5;28;01mNone\u001b[39;00m:\n\u001b[0;32m    923\u001b[0m     xr \u001b[38;5;241m=\u001b[39m np\u001b[38;5;241m.\u001b[39mclip(xr, lower_bound, upper_bound)\n\u001b[1;32m--> 924\u001b[0m fxr \u001b[38;5;241m=\u001b[39m func(xr)\n\u001b[0;32m    925\u001b[0m doshrink \u001b[38;5;241m=\u001b[39m \u001b[38;5;241m0\u001b[39m\n\u001b[0;32m    927\u001b[0m \u001b[38;5;28;01mif\u001b[39;00m fxr \u001b[38;5;241m<\u001b[39m fsim[\u001b[38;5;241m0\u001b[39m]:\n",
      "File \u001b[1;32mc:\\Users\\12943\\anaconda3\\Lib\\site-packages\\scipy\\optimize\\_optimize.py:620\u001b[0m, in \u001b[0;36m_wrap_scalar_function_maxfun_validation.<locals>.function_wrapper\u001b[1;34m(x, *wrapper_args)\u001b[0m\n\u001b[0;32m    618\u001b[0m ncalls[\u001b[38;5;241m0\u001b[39m] \u001b[38;5;241m+\u001b[39m\u001b[38;5;241m=\u001b[39m \u001b[38;5;241m1\u001b[39m\n\u001b[0;32m    619\u001b[0m \u001b[38;5;66;03m# A copy of x is sent to the user function (gh13740)\u001b[39;00m\n\u001b[1;32m--> 620\u001b[0m fx \u001b[38;5;241m=\u001b[39m function(np\u001b[38;5;241m.\u001b[39mcopy(x), \u001b[38;5;241m*\u001b[39m(wrapper_args \u001b[38;5;241m+\u001b[39m args))\n\u001b[0;32m    621\u001b[0m \u001b[38;5;66;03m# Ideally, we'd like to a have a true scalar returned from f(x). For\u001b[39;00m\n\u001b[0;32m    622\u001b[0m \u001b[38;5;66;03m# backwards-compatibility, also allow np.array([1.3]),\u001b[39;00m\n\u001b[0;32m    623\u001b[0m \u001b[38;5;66;03m# np.array([[1.3]]) etc.\u001b[39;00m\n\u001b[0;32m    624\u001b[0m \u001b[38;5;28;01mif\u001b[39;00m \u001b[38;5;129;01mnot\u001b[39;00m np\u001b[38;5;241m.\u001b[39misscalar(fx):\n",
      "Cell \u001b[1;32mIn[111], line 4\u001b[0m, in \u001b[0;36mfindbestexp\u001b[1;34m(para)\u001b[0m\n\u001b[0;32m      3\u001b[0m \u001b[38;5;28;01mdef\u001b[39;00m \u001b[38;5;21mfindbestexp\u001b[39m(para):\n\u001b[1;32m----> 4\u001b[0m     \u001b[38;5;28;01mreturn\u001b[39;00m fit_exemplar_model_rmse(para, human_results)\n",
      "Cell \u001b[1;32mIn[108], line 3\u001b[0m, in \u001b[0;36mfit_exemplar_model_rmse\u001b[1;34m(params, human_results)\u001b[0m\n\u001b[0;32m      1\u001b[0m \u001b[38;5;28;01mdef\u001b[39;00m \u001b[38;5;21mfit_exemplar_model_rmse\u001b[39m(params, human_results):\n\u001b[0;32m      2\u001b[0m     [c_cat, k_cat, c_rec, k_rec] \u001b[38;5;241m=\u001b[39m params\n\u001b[1;32m----> 3\u001b[0m     predictions \u001b[38;5;241m=\u001b[39m get_exemplar_results(c_cat, k_cat, c_rec, k_rec)\n\u001b[0;32m      4\u001b[0m     avgpredict \u001b[38;5;241m=\u001b[39m predictions\u001b[38;5;241m.\u001b[39mgroupby(\n\u001b[0;32m      5\u001b[0m         [\u001b[38;5;124m\"\u001b[39m\u001b[38;5;124mCondition\u001b[39m\u001b[38;5;124m\"\u001b[39m, \u001b[38;5;124m\"\u001b[39m\u001b[38;5;124mStimulus Type\u001b[39m\u001b[38;5;124m\"\u001b[39m], as_index\u001b[38;5;241m=\u001b[39m\u001b[38;5;28;01mFalse\u001b[39;00m\n\u001b[0;32m      6\u001b[0m     )[\u001b[38;5;124m'\u001b[39m\u001b[38;5;124mProbability of Endorsement\u001b[39m\u001b[38;5;124m'\u001b[39m]\u001b[38;5;241m.\u001b[39mmean()\n\u001b[0;32m      7\u001b[0m     model_results \u001b[38;5;241m=\u001b[39m avgpredict[\u001b[38;5;124m\"\u001b[39m\u001b[38;5;124mProbability of Endorsement\u001b[39m\u001b[38;5;124m\"\u001b[39m]\u001b[38;5;241m.\u001b[39mvalues\n",
      "Cell \u001b[1;32mIn[42], line 7\u001b[0m, in \u001b[0;36mget_exemplar_results\u001b[1;34m(c_cat, k_cat, c_rec, k_rec)\u001b[0m\n\u001b[0;32m      5\u001b[0m \u001b[38;5;28;01mfor\u001b[39;00m filename \u001b[38;5;129;01min\u001b[39;00m allres\u001b[38;5;241m.\u001b[39mkeys():\n\u001b[0;32m      6\u001b[0m     \u001b[38;5;28;01mif\u001b[39;00m allres[filename][\u001b[38;5;241m-\u001b[39m\u001b[38;5;241m1\u001b[39m][\u001b[38;5;241m1\u001b[39m] \u001b[38;5;241m==\u001b[39m \u001b[38;5;241m0\u001b[39m:\n\u001b[1;32m----> 7\u001b[0m         res \u001b[38;5;241m=\u001b[39m exemplarmodel(filename, c_cat, k_cat)\n\u001b[0;32m      8\u001b[0m         cat\u001b[38;5;241m.\u001b[39mappend(create_df(filename, \u001b[38;5;124m\"\u001b[39m\u001b[38;5;124mcat\u001b[39m\u001b[38;5;124m\"\u001b[39m, res[:\u001b[38;5;241m-\u001b[39m\u001b[38;5;241m2\u001b[39m]))\n\u001b[0;32m      9\u001b[0m     \u001b[38;5;28;01melse\u001b[39;00m:\n",
      "Cell \u001b[1;32mIn[41], line 32\u001b[0m, in \u001b[0;36mexemplarmodel\u001b[1;34m(filename, c, k)\u001b[0m\n\u001b[0;32m     30\u001b[0m     \u001b[38;5;28;01mif\u001b[39;00m \u001b[38;5;28mlen\u001b[39m(line) \u001b[38;5;241m==\u001b[39m \u001b[38;5;241m20\u001b[39m \u001b[38;5;129;01mand\u001b[39;00m line[\u001b[38;5;241m1\u001b[39m] \u001b[38;5;241m==\u001b[39m \u001b[38;5;241m2\u001b[39m:\n\u001b[0;32m     31\u001b[0m         item \u001b[38;5;241m=\u001b[39m np\u001b[38;5;241m.\u001b[39mresize(line[\u001b[38;5;241m2\u001b[39m:], (\u001b[38;5;241m9\u001b[39m, \u001b[38;5;241m2\u001b[39m))\n\u001b[1;32m---> 32\u001b[0m         pofr \u001b[38;5;241m=\u001b[39m computeresponse(item, memory, c, k)\n\u001b[0;32m     33\u001b[0m         old\u001b[38;5;241m.\u001b[39mappend(pofr)\n\u001b[0;32m     34\u001b[0m \u001b[38;5;66;03m# print \"p of r\", old\u001b[39;00m\n\u001b[0;32m     35\u001b[0m \u001b[38;5;66;03m# print(np.average(old))\u001b[39;00m\n\u001b[0;32m     36\u001b[0m \n\u001b[0;32m     37\u001b[0m \u001b[38;5;66;03m# new high items\u001b[39;00m\n",
      "Cell \u001b[1;32mIn[40], line 22\u001b[0m, in \u001b[0;36mcomputeresponse\u001b[1;34m(target, memory, c, k)\u001b[0m\n\u001b[0;32m     18\u001b[0m res \u001b[38;5;241m=\u001b[39m []\n\u001b[0;32m     19\u001b[0m \u001b[38;5;28;01mfor\u001b[39;00m mem \u001b[38;5;129;01min\u001b[39;00m memory:\n\u001b[0;32m     20\u001b[0m     res\u001b[38;5;241m.\u001b[39mappend(\n\u001b[0;32m     21\u001b[0m         math\u001b[38;5;241m.\u001b[39mlog(\n\u001b[1;32m---> 22\u001b[0m             \u001b[38;5;241m1.0\u001b[39m \u001b[38;5;241m+\u001b[39m np\u001b[38;5;241m.\u001b[39maverage(\u001b[38;5;28mlist\u001b[39m(\u001b[38;5;28mmap\u001b[39m(\u001b[38;5;28;01mlambda\u001b[39;00m x, y: unitdist(x, y), target, mem)))\n\u001b[0;32m     23\u001b[0m         )\n\u001b[0;32m     24\u001b[0m     )\n\u001b[0;32m     25\u001b[0m resp \u001b[38;5;241m=\u001b[39m [math\u001b[38;5;241m.\u001b[39mexp(\u001b[38;5;241m-\u001b[39mc \u001b[38;5;241m*\u001b[39m x) \u001b[38;5;28;01mfor\u001b[39;00m x \u001b[38;5;129;01min\u001b[39;00m res]\n\u001b[0;32m     26\u001b[0m pofr \u001b[38;5;241m=\u001b[39m \u001b[38;5;28msum\u001b[39m(resp) \u001b[38;5;241m/\u001b[39m (\u001b[38;5;28msum\u001b[39m(resp) \u001b[38;5;241m+\u001b[39m k)\n",
      "Cell \u001b[1;32mIn[40], line 22\u001b[0m, in \u001b[0;36mcomputeresponse.<locals>.<lambda>\u001b[1;34m(x, y)\u001b[0m\n\u001b[0;32m     18\u001b[0m res \u001b[38;5;241m=\u001b[39m []\n\u001b[0;32m     19\u001b[0m \u001b[38;5;28;01mfor\u001b[39;00m mem \u001b[38;5;129;01min\u001b[39;00m memory:\n\u001b[0;32m     20\u001b[0m     res\u001b[38;5;241m.\u001b[39mappend(\n\u001b[0;32m     21\u001b[0m         math\u001b[38;5;241m.\u001b[39mlog(\n\u001b[1;32m---> 22\u001b[0m             \u001b[38;5;241m1.0\u001b[39m \u001b[38;5;241m+\u001b[39m np\u001b[38;5;241m.\u001b[39maverage(\u001b[38;5;28mlist\u001b[39m(\u001b[38;5;28mmap\u001b[39m(\u001b[38;5;28;01mlambda\u001b[39;00m x, y: unitdist(x, y), target, mem)))\n\u001b[0;32m     23\u001b[0m         )\n\u001b[0;32m     24\u001b[0m     )\n\u001b[0;32m     25\u001b[0m resp \u001b[38;5;241m=\u001b[39m [math\u001b[38;5;241m.\u001b[39mexp(\u001b[38;5;241m-\u001b[39mc \u001b[38;5;241m*\u001b[39m x) \u001b[38;5;28;01mfor\u001b[39;00m x \u001b[38;5;129;01min\u001b[39;00m res]\n\u001b[0;32m     26\u001b[0m pofr \u001b[38;5;241m=\u001b[39m \u001b[38;5;28msum\u001b[39m(resp) \u001b[38;5;241m/\u001b[39m (\u001b[38;5;28msum\u001b[39m(resp) \u001b[38;5;241m+\u001b[39m k)\n",
      "Cell \u001b[1;32mIn[40], line 9\u001b[0m, in \u001b[0;36munitdist\u001b[1;34m(x, y)\u001b[0m\n\u001b[0;32m      7\u001b[0m x1 \u001b[38;5;241m=\u001b[39m np\u001b[38;5;241m.\u001b[39marray(x)\n\u001b[0;32m      8\u001b[0m y1 \u001b[38;5;241m=\u001b[39m np\u001b[38;5;241m.\u001b[39marray(y)\n\u001b[1;32m----> 9\u001b[0m \u001b[38;5;28;01mreturn\u001b[39;00m math\u001b[38;5;241m.\u001b[39msqrt(\u001b[38;5;28msum\u001b[39m(\u001b[38;5;28mpow\u001b[39m(x \u001b[38;5;241m-\u001b[39m y, \u001b[38;5;241m2.0\u001b[39m)))\n",
      "\u001b[1;31mKeyboardInterrupt\u001b[0m: "
     ]
    }
   ],
   "source": [
    "# For Ray\n",
    "from scipy.optimize import minimize\n",
    "initial_guess = [0.1, 2.0, 0.1, 2.0]\n",
    "def findbestexp(para):\n",
    "    return fit_exemplar_model_rmse(para, human_results)\n",
    "\n",
    "result = minimize(findbestexp, initial_guess, method='Nelder-Mead')\n",
    "fmin_exp_para=result.x\n",
    "fmin__exp_loss=result.fun\n",
    "def findbestpro(para):\n",
    "    return fit_prototype_model_rmse(para, human_results)\n",
    "\n",
    "result = minimize(findbestpro, initial_guess, method='Nelder-Mead')\n",
    "fmin_pro_para=result.x\n",
    "fmin__pro_loss=result.fun"
   ]
  },
  {
   "cell_type": "code",
   "execution_count": 127,
   "metadata": {},
   "outputs": [
    {
     "name": "stdout",
     "output_type": "stream",
     "text": [
      "Optimization terminated successfully.\n",
      "         Current function value: 0.242922\n",
      "         Iterations: 179\n",
      "         Function evaluations: 300\n"
     ]
    }
   ],
   "source": [
    "# For ziqing\n",
    "from scipy.optimize import fmin\n",
    "initial_guess = [1, 2.0, 1, 2.0]\n",
    "def fmin_exp(para):\n",
    "    return fit_exemplar_model_rmse(para, human_results)\n",
    "def fmin_pro(para):\n",
    "    return fit_prototype_model_rmse(para, human_results)\n",
    "result1 = fmin(fmin_exp, initial_guess)\n",
    "result2 = fmin(fmin_pro, initial_guess)"
   ]
  }
 ],
 "metadata": {
  "kernelspec": {
   "display_name": "Python 3 (ipykernel)",
   "language": "python",
   "name": "python3"
  },
  "language_info": {
   "codemirror_mode": {
    "name": "ipython",
    "version": 3
   },
   "file_extension": ".py",
   "mimetype": "text/x-python",
   "name": "python",
   "nbconvert_exporter": "python",
   "pygments_lexer": "ipython3",
   "version": "3.11.5"
  },
  "nteract": {
   "version": "0.22.4"
  },
  "toc": {
   "base_numbering": 1,
   "nav_menu": {},
   "number_sections": true,
   "sideBar": true,
   "skip_h1_title": false,
   "title_cell": "Table of Contents",
   "title_sidebar": "Contents",
   "toc_cell": false,
   "toc_position": {},
   "toc_section_display": true,
   "toc_window_display": false
  }
 },
 "nbformat": 4,
 "nbformat_minor": 2
}
