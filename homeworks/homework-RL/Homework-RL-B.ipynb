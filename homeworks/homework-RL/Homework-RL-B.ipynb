{
 "cells": [
  {
   "cell_type": "markdown",
   "metadata": {},
   "source": [
    "# Homework - Reinforcement Learning - Part B (60/100 points)"
   ]
  },
  {
   "cell_type": "markdown",
   "metadata": {},
   "source": [
    "by *Todd Gureckis* and *Brenden Lake*  \n",
    "Computational Cognitive Modeling  \n",
    "NYU class webpage: https://brendenlake.github.io/CCM-site/  \n",
    "email to course instructors: instructors-ccm-spring2024@nyuccl.org"
   ]
  },
  {
   "cell_type": "markdown",
   "metadata": {},
   "source": [
    "<div class=\"alert alert-danger\" role=\"alert\">\n",
    "  This homework is due before midnight on March 7, 2024.  \n",
    "</div>"
   ]
  },
  {
   "cell_type": "markdown",
   "metadata": {},
   "source": [
    "---"
   ]
  },
  {
   "cell_type": "markdown",
   "metadata": {},
   "source": [
    "## Learning and deciding in an unknown world\n",
    "\n",
    "[Part A](Homework-RL-A.ipynb) of the homework epsilond various solution to a sequential decision making problem in a case where considerable information about the environment was known or was provided (e.g., the probabilities of transitioning between different states and the magnitude of rewards available in particular states).  However, if reinforcement learning could only be applied to cases with full, explicit knowledge than it would be much less of a compelling model of human learning.  In many cases, humans and other animals learn even when there is much more ambiguity, and as a result, a good model of experiential learning for humans would apply to cases where less is known a-priori about the world.\n",
    "\n",
    "<img src=\"images/bandit.jpg\" width=\"200\">\n",
    "\n",
    "In this part of the homework, we will shift to think about learning and deciding in a unknown environment.  This is a fairly complex topic with many different solutions and types of problems.  However, we will focus on one particular problem class known as the **n-armed bandit**.  N-armed bandits are optimization problems that mimic many real-world problems faced by humans, organizations, and machine learning agents.  The term \"bandit\" comes from the name of the casino games where you pull a lever to enter a lottery.  The bandits have one arm (the arm you pull down) and they steal your money (see above).\n",
    "\n",
    "<img src=\"images/multiarmedbandit.jpg\" width=\"300\">\n",
    "\n",
    "An N-armed bandit is a problem where a decision maker is presented with a bandit with $n$ arms instead of just one (see Octopus cartoon).  The task for the agent is, on each trial or moment in time, to choose bandits that are good while avoiding those that are less good.  Since nothing may be known about the bandits a-priori, the problem is difficult and requires a balance of *exploration* (trying new things in order to learn) and *exploitation* (choosing options known to be good).\n",
    "\n",
    "If each bandit paid out a fixed amount every time it was selected, then the problem would be solved with very simple exhaustive search process (visit each bandit once and then select the best one for the remaining time). However, the sequential search strategy just described doesn't capture the *opportunity cost* of exploration.  For example, imagine that there is 100 armed bandits.  Further assume that you know that 98 give zero reward, one gives a reward of 10, and one gives a reward of 20.  If on the first pull you receive 10 units of reward then you are lucky and landed on a good one.  However, is it worth going searching for the 20 point bandit?  Given that you will have to pull a lot of zero reward bandits, it might actually be more rewarding over a finite period to continue to pull the 10 point bandit arm.  Thus, exploration and exploitation act more like a tradeoff depending on the structure of the problem.\n",
    "\n",
    "In addition, when the reward received from each bandit is probabilistic or stochastic, and furthermore the quality of the bandits might change over time, the problem becomes much more difficult.  These cases require the agent to learn from the past but also be willing to adjust their beliefs based on more recent information.\n",
    "\n",
    "Bandit tasks come up in many areas of cognitive science and machine learning.  For example, there is a way to view A/B testing on websites as a [particular type of bandit problem](https://www.amazon.com/Bandit-Algorithms-Website-Optimization-Developing/dp/1449341330) (your goal is to ensure conversions or purchases on your website, and your bandit arms are the different web designs you might try out).  Similarly, the very real human problem of deciding where to eat lunch is a bit like a bandit problem -- should you return to your favorite restuarant or try a new one?  Is the exploration worth giving up a reliably good meal?\n",
    "\n",
    "In this part of the homework you will epsilon different simple algorithms for bandit problems."
   ]
  },
  {
   "cell_type": "markdown",
   "metadata": {},
   "source": [
    "### Starter code"
   ]
  },
  {
   "cell_type": "markdown",
   "metadata": {},
   "source": [
    "<div class=\"alert alert-warning\" role=\"alert\">\n",
    "  <strong>Warning!</strong> Before running other cells in this notebook you must first successfully execute the following cell which includes some libraries.\n",
    "</div>"
   ]
  },
  {
   "cell_type": "code",
   "execution_count": 56,
   "metadata": {},
   "outputs": [],
   "source": [
    "# The typical imports\n",
    "import numpy as np\n",
    "import pandas as pd\n",
    "%matplotlib inline\n",
    "import matplotlib.pyplot as plt \n",
    "import random\n",
    "import math\n",
    "import seaborn as sns"
   ]
  },
  {
   "cell_type": "markdown",
   "metadata": {},
   "source": [
    "## A simple bandit environment"
   ]
  },
  {
   "cell_type": "markdown",
   "metadata": {},
   "source": [
    "The first class provided here creates a set of simple, stationary multi-arm bandits.  The bandits are stateless in that the reward from choose each action is simply a probabilistic function of the bandit itself, and there are no other cues you can use to decide which action to take.  The parameters to the constructor of the bandit environment are:  \n",
    "\n",
    "- `mus`: the mean of the distribution from which each bandit is drawn from.  This should have k numbers (for the k-armed bandit)\n",
    "- `sds`: the standard deviation of the distribution from which the bandit means are drawn from (also k numbers for k bandits)"
   ]
  },
  {
   "cell_type": "code",
   "execution_count": 57,
   "metadata": {},
   "outputs": [],
   "source": [
    "class KArmBanditStationary:\n",
    "    def __init__(self, mus, sds):\n",
    "        self.action_means = mus\n",
    "        self.action_sds = sds\n",
    "        self.optimal = np.argmax(self.action_means)\n",
    "        self.k = len(mus)\n",
    "\n",
    "    def step(self, action):\n",
    "        return (\n",
    "            np.random.normal(self.action_means[action], self.action_sds[action]),\n",
    "            action == self.optimal,\n",
    "        )"
   ]
  },
  {
   "cell_type": "markdown",
   "metadata": {},
   "source": [
    "Your job in this first exercise is to write a simple RL agent which samples from these bandits and attempts to earn as much reward as possible.  The following cell gives an example of how to initialize the bandit and how to draw from it"
   ]
  },
  {
   "cell_type": "code",
   "execution_count": 58,
   "metadata": {},
   "outputs": [
    {
     "data": {
      "text/plain": [
       "(7.48053333987012, False)"
      ]
     },
     "execution_count": 58,
     "metadata": {},
     "output_type": "execute_result"
    }
   ],
   "source": [
    "bandit = KArmBanditStationary([0, 50, 10, 4], [10, 10, 10, 10])\n",
    "action = 0  # pull the 0th bandit\n",
    "bandit.step(\n",
    "    action\n",
    ")  # return values are the reward, and if the action is actually optimal or not"
   ]
  },
  {
   "cell_type": "markdown",
   "metadata": {},
   "source": [
    "When we initialize the `KArmBanditStationary` we in some sense know exactly which arm is optimal (the one with the higher mean), and also how hard the problem is (the standard deviation of the rewards on each arm determines the difficulty... low SD generally is a easier task due to signal-noise relationship)."
   ]
  },
  {
   "cell_type": "markdown",
   "metadata": {},
   "source": [
    "However, we are going to be implementing agents that do not have access to this information.  For example, this first cell implements a simple random agent.  You will want to modify this class to create an agent that can learn."
   ]
  },
  {
   "cell_type": "code",
   "execution_count": 59,
   "metadata": {},
   "outputs": [],
   "source": [
    "class RandomAgent:\n",
    "    def __init__(self, k):\n",
    "        self.num_actions = k\n",
    "        # you could add parameters to your agent here\n",
    "        pass\n",
    "\n",
    "    def choose(self):\n",
    "        return np.random.randint(self.num_actions)\n",
    "\n",
    "    def learn(self, reward, action):  # this agent doesn't learn\n",
    "        pass"
   ]
  },
  {
   "cell_type": "markdown",
   "metadata": {},
   "source": [
    "This cell helps you plot the reward history including a smoothed average reward earned by the agents over the last 30 trials"
   ]
  },
  {
   "cell_type": "code",
   "execution_count": 60,
   "metadata": {},
   "outputs": [],
   "source": [
    "def plot_results(results_df, window=25):\n",
    "    # set up figiure\n",
    "    palette = iter(sns.color_palette(\"Set2\"))\n",
    "    fig = plt.figure(constrained_layout=True, figsize=(18, 5))\n",
    "    gs = fig.add_gridspec(2, 5)\n",
    "\n",
    "    # add three axes\n",
    "    rew_ax = fig.add_subplot(gs[0, :-2])\n",
    "    opt_ax = fig.add_subplot(gs[1, :-2])\n",
    "    runs_ax = fig.add_subplot(gs[:, -2:])\n",
    "\n",
    "    # fig, (rew_ax,opt_ax) = plt.subplots(nrows=2,ncols=1,figsize=(18,8))\n",
    "    smooth_df = results_df.groupby(\"run\").rolling(window, on=\"timepoint\").mean()\n",
    "    sns.lineplot(\n",
    "        x=\"timepoint\",\n",
    "        y=\"reward_history\",\n",
    "        data=smooth_df,\n",
    "        ax=rew_ax,\n",
    "        label=\"reward\",\n",
    "        color=next(palette),\n",
    "    )\n",
    "    rew_ax.legend(loc=\"upper right\")\n",
    "\n",
    "    sns.lineplot(\n",
    "        x=\"timepoint\",\n",
    "        y=\"opt\",\n",
    "        data=smooth_df,\n",
    "        ax=opt_ax,\n",
    "        label=\"p(optimal)\",\n",
    "        color=next(palette),\n",
    "    )\n",
    "    opt_ax.set_ylim(0, 1)\n",
    "    opt_ax.legend(loc=\"upper right\")\n",
    "\n",
    "    sns.distplot(\n",
    "        results_df.groupby(\"run\")[\"opt\"].mean(), ax=runs_ax, color=next(palette)\n",
    "    )\n",
    "    runs_ax.set_title(\"proportion optimal choices across runs\")\n",
    "    runs_ax.set_xlim(0, 1)"
   ]
  },
  {
   "cell_type": "markdown",
   "metadata": {},
   "source": [
    "\n",
    "Finally, this is an example of the random agent's performance in the environment."
   ]
  },
  {
   "cell_type": "code",
   "execution_count": 61,
   "metadata": {},
   "outputs": [
    {
     "name": "stderr",
     "output_type": "stream",
     "text": [
      "C:\\Users\\26210\\AppData\\Local\\Temp\\ipykernel_29592\\1273946726.py:35: UserWarning: \n",
      "\n",
      "`distplot` is a deprecated function and will be removed in seaborn v0.14.0.\n",
      "\n",
      "Please adapt your code to use either `displot` (a figure-level function with\n",
      "similar flexibility) or `histplot` (an axes-level function for histograms).\n",
      "\n",
      "For a guide to updating your code to use the new functions, please see\n",
      "https://gist.github.com/mwaskom/de44147ed2974457ad6372750bbe5751\n",
      "\n",
      "  sns.distplot(\n"
     ]
    },
    {
     "data": {
      "image/png": "[encoded data removed]",
      "text/plain": [
       "<Figure size 1800x500 with 3 Axes>"
      ]
     },
     "metadata": {},
     "output_type": "display_data"
    }
   ],
   "source": [
    "np.random.seed(100)  # fix a seed for repeatable experiments\n",
    "\n",
    "# parameters of simulation\n",
    "n_timesteps = 300\n",
    "n_runs = 500\n",
    "\n",
    "# set up bandit options\n",
    "n_bandits = 4\n",
    "bandit_means = [0, 50, 10, 4]\n",
    "bandit_sds = [1] * n_bandits\n",
    "\n",
    "reward_history = []\n",
    "opt_history = []\n",
    "run_history = []\n",
    "timestep = []\n",
    "\n",
    "for run in range(n_runs):  # repeat a given number random repetitions of the experiment\n",
    "    agent = RandomAgent(n_bandits)\n",
    "    np.random.shuffle(bandit_means)  # randomize location of \"best\"\n",
    "    bandit = KArmBanditStationary(bandit_means, bandit_sds)  # create a new bandit\n",
    "    for i in range(n_timesteps):  # for a certain number of time steps\n",
    "        choice = agent.choose()  # let the agent choose\n",
    "        reward, opt = bandit.step(choice)\n",
    "        reward_history.append(reward)\n",
    "        opt_history.append(opt)\n",
    "        run_history.append(run)\n",
    "        timestep.append(i)\n",
    "\n",
    "# plot the results\n",
    "sim_result_df = pd.DataFrame(\n",
    "    {\n",
    "        \"run\": run_history,\n",
    "        \"timepoint\": timestep,\n",
    "        \"reward_history\": reward_history,\n",
    "        \"opt\": opt_history,\n",
    "    }\n",
    ")\n",
    "plot_results(sim_result_df)"
   ]
  },
  {
   "cell_type": "markdown",
   "metadata": {},
   "source": [
    "Here the plot shows the average reward earned for each trial fo the task across the repeated runs/experiments.  The lower panel shows the proportion of optimal choices made by the agent across trials.  The error bars on both of these plots are bootstrapped confidence intervals across runs of the agent.  Finally, the right panel shows a histogram of the proportion of optimal choices made across the runs.\n",
    "\n",
    "Everything looks as expected here.  The random agent makes about the average reward of the task and chooses the optimal choice about 25% of the time.\n",
    "\n",
    "Can you use what we have learned in lecture to do better?"
   ]
  },
  {
   "cell_type": "markdown",
   "metadata": {},
   "source": [
    "<div class=\"alert alert-success\" role=\"alert\">\n",
    "<h3> Problem 4 (15 points) </h3><br>\n",
    "  Create a new agent class based on `RandomAgent` called `EpsilonGreedyAgentIncremental()` which keeps track of the average reward earned from each draw of the bandit.  This agent will include a parameter `epsilon` which will determine the probability of choosing a random action, otherwise it should choose the best so far.  To update the value of each bandit use the incremental implementation of mean-tracking which was first introduced on the slides blending monte carlo methods (this is a incremental approach to calculating the mean as a new observation arrive).  Make a plot similar to the ones above showing the performance of the agent on the three measures we have considered when the environment is initialized in the same way (i.e., means are a random shuffling of [0.,50.,10.,4.] with sd=1).  Next, show with a couple examples how changes in epsilon determine the shape of that plot.  You should show the final code for your agent and the plots along with a single markdown cell describing your solution (1-2 paragraphs).  In your answer be sure to explain if your new agent does better than the random agent and why you think that is the case.  In all cases run your agent for 300 time steps and average over 500 runs.\n",
    "</div>"
   ]
  },
  {
   "cell_type": "code",
   "execution_count": 62,
   "metadata": {},
   "outputs": [],
   "source": [
    "class EpsilonGreedyAgentIncremental:\n",
    "   \n",
    "    def __init__(self, k,epsilon):\n",
    "\n",
    "        self.num_actions = k\n",
    "        self.epsilon=epsilon\n",
    "        self.knowledge={}\n",
    "        self.knowledge[i]=[[0,1] for i in range(k)]\n",
    "             \n",
    "\n",
    "    def choose(self):\n",
    "        self.act=self.be_greedy(self.knowledge)\n",
    "        if random.random() < self.epsilon:\n",
    "            return np.random.randint(self.num_actions)\n",
    "        else:            \n",
    "            return self.act\n",
    "    \n",
    "    def learn(self, reward, action):\n",
    "        num=self.knowledge[action][1]  \n",
    "        self.knowledge[action][0]=self.knowledge[action][0]+1/num*(reward-self.knowledge[action][0])\n",
    "        self.knowledge[action][1]=self.knowledge[action][1]+1\n",
    "    \n",
    "    def changeexp(self,nw):\n",
    "        self.epsilon=nw\n",
    "\n",
    "    def be_greedy(self,q_values):\n",
    "        if len(q_values) == 0:\n",
    "            return {}\n",
    "\n",
    "        keys = list(q_values.keys())\n",
    "        vals = [q_values[i][0] for i in keys]\n",
    "        maxqs = [i for i, x in enumerate(vals) if x == max(vals)]\n",
    "        \n",
    "        if len(maxqs) > 1:\n",
    "            pos = random.choice(maxqs)\n",
    "        else:\n",
    "            pos = maxqs[0]\n",
    "        return keys[pos]   \n"
   ]
  },
  {
   "cell_type": "code",
   "execution_count": 63,
   "metadata": {},
   "outputs": [
    {
     "ename": "KeyError",
     "evalue": "3",
     "output_type": "error",
     "traceback": [
      "\u001b[1;31m---------------------------------------------------------------------------\u001b[0m",
      "\u001b[1;31mKeyError\u001b[0m                                  Traceback (most recent call last)",
      "Cell \u001b[1;32mIn[63], line 28\u001b[0m\n\u001b[0;32m     26\u001b[0m choice \u001b[38;5;241m=\u001b[39m agent\u001b[38;5;241m.\u001b[39mchoose()  \u001b[38;5;66;03m# let the agent choose\u001b[39;00m\n\u001b[0;32m     27\u001b[0m reward, opt \u001b[38;5;241m=\u001b[39m bandit\u001b[38;5;241m.\u001b[39mstep(choice) \u001b[38;5;66;03m# get new reward\u001b[39;00m\n\u001b[1;32m---> 28\u001b[0m agent\u001b[38;5;241m.\u001b[39mlearn(reward,choice) \u001b[38;5;66;03m# learning and updata\u001b[39;00m\n\u001b[0;32m     29\u001b[0m agent\u001b[38;5;241m.\u001b[39mchangeexp(eplore\u001b[38;5;241m*\u001b[39m( \u001b[38;5;28mmax\u001b[39m(\u001b[38;5;241m0\u001b[39m,(\u001b[38;5;241m40\u001b[39m\u001b[38;5;241m-\u001b[39mi)) )\u001b[38;5;241m/\u001b[39m\u001b[38;5;241m40\u001b[39m) \u001b[38;5;66;03m# reduce the greedy level\u001b[39;00m\n\u001b[0;32m     31\u001b[0m reward_history\u001b[38;5;241m.\u001b[39mappend(reward)\n",
      "Cell \u001b[1;32mIn[62], line 32\u001b[0m, in \u001b[0;36mEpsilonGreedyAgentIncremental.learn\u001b[1;34m(self, reward, action)\u001b[0m\n\u001b[0;32m     31\u001b[0m \u001b[38;5;28;01mdef\u001b[39;00m \u001b[38;5;21mlearn\u001b[39m(\u001b[38;5;28mself\u001b[39m, reward, action):\n\u001b[1;32m---> 32\u001b[0m     num\u001b[38;5;241m=\u001b[39m\u001b[38;5;28mself\u001b[39m\u001b[38;5;241m.\u001b[39mknowledge[action][\u001b[38;5;241m1\u001b[39m]  \n\u001b[0;32m     33\u001b[0m     \u001b[38;5;28mself\u001b[39m\u001b[38;5;241m.\u001b[39mknowledge[action][\u001b[38;5;241m0\u001b[39m]\u001b[38;5;241m=\u001b[39m\u001b[38;5;28mself\u001b[39m\u001b[38;5;241m.\u001b[39mknowledge[action][\u001b[38;5;241m0\u001b[39m]\u001b[38;5;241m+\u001b[39m\u001b[38;5;241m1\u001b[39m\u001b[38;5;241m/\u001b[39mnum\u001b[38;5;241m*\u001b[39m(reward\u001b[38;5;241m-\u001b[39m\u001b[38;5;28mself\u001b[39m\u001b[38;5;241m.\u001b[39mknowledge[action][\u001b[38;5;241m0\u001b[39m])\n\u001b[0;32m     34\u001b[0m     \u001b[38;5;28mself\u001b[39m\u001b[38;5;241m.\u001b[39mknowledge[action][\u001b[38;5;241m1\u001b[39m]\u001b[38;5;241m=\u001b[39m\u001b[38;5;28mself\u001b[39m\u001b[38;5;241m.\u001b[39mknowledge[action][\u001b[38;5;241m1\u001b[39m]\u001b[38;5;241m+\u001b[39m\u001b[38;5;241m1\u001b[39m\n",
      "\u001b[1;31mKeyError\u001b[0m: 3"
     ]
    }
   ],
   "source": [
    "np.random.seed(100)  # fix a seed for repeatable experiments\n",
    "\n",
    "# parameters of simulation\n",
    "n_timesteps = 300\n",
    "n_runs = 500\n",
    "\n",
    "# set up bandit options\n",
    "n_bandits = 4\n",
    "bandit_means = [1, 2, 3, 4]\n",
    "bandit_sds = [1] * n_bandits\n",
    "\n",
    "reward_history = []\n",
    "opt_history = []\n",
    "run_history = []\n",
    "timestep = []\n",
    "\n",
    "# set up agent parameters\n",
    "eplore=1\n",
    "\n",
    "for run in range(n_runs):  # repeat a given number random repetitions of the experiment\n",
    "    #epsilon=\n",
    "    agent = EpsilonGreedyAgentIncremental(n_bandits,eplore)\n",
    "    np.random.shuffle(bandit_means)  # randomize location of \"best\"\n",
    "    bandit = KArmBanditStationary(bandit_means, bandit_sds)  # create a new bandit\n",
    "    for i in range(n_timesteps):  # for a certain number of time steps\n",
    "        choice = agent.choose()  # let the agent choose\n",
    "        reward, opt = bandit.step(choice) # get new reward\n",
    "        agent.learn(reward,choice) # learning and updata\n",
    "        agent.changeexp(eplore*( max(0,(40-i)) )/40) # reduce the greedy level\n",
    "        \n",
    "        reward_history.append(reward)\n",
    "        opt_history.append(opt)\n",
    "        run_history.append(run)\n",
    "        timestep.append(i)\n",
    "\n",
    "        \n",
    "\n",
    "# plot the results\n",
    "sim_result_df = pd.DataFrame(\n",
    "    {\n",
    "        \"run\": run_history,\n",
    "        \"timepoint\": timestep,\n",
    "        \"reward_history\": reward_history,\n",
    "        \"opt\": opt_history,\n",
    "    }\n",
    ")\n",
    "plot_results(sim_result_df)"
   ]
  },
  {
   "cell_type": "markdown",
   "metadata": {},
   "source": [
    "This agent behave better than random for sure. We change our the mean to ([1,2,3,4]), where it is small, but it still behave good. \n",
    "epsilon will help to epsilon each bandit. we learning the reward of each bandit and calcualte the rewards. At beginning we set epsilon large to fully know all bandits. But when we know enough, we will reduce the epsilon rate to 0. (Otherwise the opt will never achieve 1)"
   ]
  },
  {
   "cell_type": "markdown",
   "metadata": {},
   "source": [
    "<div class=\"alert alert-success\" role=\"alert\">\n",
    "<h3> Problem 5 (15 points) </h3><br> \n",
    "Create a new agent class based on `RandomAgent` called `EpsilonGreedyAgentConstant()` which keeps track of the average reward earned from each draw of the bandit.  This agent will be nearly identical to `EpsilonGreedyIncremental()`.  However, in addition to the parameter `epsilon` which will determine the probability of choosing a random action, this agent should use the \"constant step size\" update rule related to temporal-different learning to update the value of each action.  The step size parameter (`alpha`) should be added as a new input parameter to your agent (hint: small values of this parameter are often better).   Make a plot similar to the ones above showing the performance of the agent on the three measures we have considered.  Is the performance of this agent the same or different than the previous agent you coded for this environment?  Try a few parameter combinations with your agent and in your response show 1-2 examples to help make your point.  You should show the final code for your agent and the plots along with a single markdown cell describing your solution (1-2 paragraphs). Be sure that your answer includes the answer to this key question: Does the constant agent out perform the incremental agent?  And does it do better than the random agent?  You don't need to do statistics but just a general visual comparison of the quality of the algorithsm is enough.  In all cases run your agent for 300 time steps and average over 500 runs.\n",
    "</div>"
   ]
  },
  {
   "cell_type": "code",
   "execution_count": null,
   "metadata": {},
   "outputs": [],
   "source": [
    "\n",
    "\n",
    "\n",
    "class EpsilonGreedyAgentConstant:\n",
    "\n",
    "    def __init__(self, k,epsilon,alpha):\n",
    "        self.num_actions = k\n",
    "        self.epsilon=epsilon\n",
    "        self.knowledge={}\n",
    "        for i in range(k):\n",
    "            self.knowledge[i]=0\n",
    "        self.alpha=alpha\n",
    "\n",
    "    def be_greedy(self,q_values):\n",
    "        if len(q_values) == 0:\n",
    "            return {}\n",
    "\n",
    "        keys = list(q_values.keys())\n",
    "        vals = [q_values[i] for i in keys]\n",
    "        maxqs = [i for i, x in enumerate(vals) if x == max(vals)]\n",
    "        if len(maxqs) > 1:\n",
    "            pos = random.choice(maxqs)\n",
    "        else:\n",
    "            pos = maxqs[0]\n",
    "        return keys[pos]\n",
    "\n",
    "        # you could add parameters to your agent here\n",
    "        \n",
    "\n",
    "    def choose(self):\n",
    "        self.act=self.be_greedy(self.knowledge)\n",
    "        if random.random() < self.epsilon:\n",
    "            return np.random.randint(self.num_actions)\n",
    "        else:            \n",
    "            return self.act\n",
    "    \n",
    "    def learn(self, reward, action):\n",
    "        self.knowledge[action]=self.knowledge[action]+self.alpha*(reward-self.knowledge[action])\n",
    "    \n",
    "    def changeexp(self,nw):\n",
    "        self.epsilon=nw"
   ]
  },
  {
   "cell_type": "code",
   "execution_count": null,
   "metadata": {},
   "outputs": [],
   "source": [
    "np.random.seed(100)  # fix a seed for repeatable experiments\n",
    "\n",
    "# parameters of simulation\n",
    "n_timesteps = 300\n",
    "n_runs = 500\n",
    "\n",
    "# set up bandit options\n",
    "n_bandits = 4\n",
    "bandit_means = [1, 2, 3, 4]\n",
    "bandit_sds = [1] * n_bandits\n",
    "\n",
    "reward_history = []\n",
    "opt_history = []\n",
    "run_history = []\n",
    "timestep = []\n",
    "\n",
    "# set up agent parameters\n",
    "epsilon=1\n",
    "\n",
    "alpha=0.2\n",
    "\n",
    "for run in range(n_runs):  # repeat a given number random repetitions of the experiment\n",
    "    #epsilon=\n",
    "    agent = EpsilonGreedyAgentConstant(n_bandits,epsilon,alpha)\n",
    "    np.random.shuffle(bandit_means)  # randomize location of \"best\"\n",
    "    bandit = KArmBanditStationary(bandit_means, bandit_sds)  # create a new bandit\n",
    "    for i in range(n_timesteps):  # for a certain number of time steps\n",
    "        choice = agent.choose()  # let the agent choose\n",
    "        reward, opt = bandit.step(choice) # get new reward\n",
    "        agent.changeexp(eplore*( max(0,(40-i)) )/40)\n",
    "         # reduce the greedy level\n",
    "        reward_history.append(reward)\n",
    "        opt_history.append(opt)\n",
    "        run_history.append(run)\n",
    "        timestep.append(i)\n",
    "        agent.learn(reward,choice) # learning and updata\n",
    "\n",
    "        \n",
    "\n",
    "# plot the results\n",
    "sim_result_df = pd.DataFrame(\n",
    "    {\n",
    "        \"run\": run_history,\n",
    "        \"timepoint\": timestep,\n",
    "        \"reward_history\": reward_history,\n",
    "        \"opt\": opt_history,\n",
    "    }\n",
    ")\n",
    "plot_results(sim_result_df)"
   ]
  },
  {
   "cell_type": "markdown",
   "metadata": {},
   "source": [
    "This agent behave the same as the Increment one under [0,50,10,7] mean, but behave worse in ([1,2,3,4]) means. In mathmatic, Increment will give us a consistant estimation of the expect reward. But we see that using constant will actually lead to a fix variance unbias esimator of the expect rewards. The larger alpha is, the larger variance we get(The upper bound is achieve when alpha is 1, and the varance is same as the variance of the bandit). But if our expected rewards has large difference(i.e. [0,50,10,7]), it does not really matter our estimator is very accurate or not. But if our difference is small([1,2,3,4]), the drawback of constant method shows up. It will make mistake. "
   ]
  },
  {
   "cell_type": "markdown",
   "metadata": {},
   "source": [
    "<div class=\"alert alert-success\" role=\"alert\">\n",
    "<h3> Problem 6 (15 points) </h3><br> \n",
    "      Below is a new type of bandit environment based on `KArmBanditStationary` class where the reward probabilities of each bandit change over time.  This is sometimes known as a \"restless bandit\" (see the Daw et al. 2013 paper on epsilon exploit mentioned in Lecture).  The idea is that on each time step the mean reward of each action should be modified up or down by a sample from a Gaussian distribution (e.g.,  $\\mu_{t+1} = \\mu_{t} + \\mathcal{N}(0,20)$).  I have called the new class `KArmBanditRestless`.  The mean of the arms is itself drawn intiailly from a random normal distribution as well. Using this environment (with the number of arms set to 4), test the `RandomAgent()`, `EpsilonGreedyAgentConstant()` and `EpsilonGreedyAgentIncremental()` agents.  You may want to play with the alpha parameter of the incremental agent to see if you can find a particularly good setting.  Show the final code for your agent, plots showing the average reward the agent earns over time, along with a  markdown cell describing your solution in 1-2 paragraphs.  Which agent performs better in this environment?  Is this different than the conclusion you made from the previous environment? Be sure to answer these two questions in your response.  In all cases run your agent for 300 time steps and average over 500 runs.\n",
    "</div>"
   ]
  },
  {
   "cell_type": "code",
   "execution_count": null,
   "metadata": {},
   "outputs": [],
   "source": [
    "class KArmBanditRestless:\n",
    "    def __init__(self, k, mu=0, sigma=2, sd=2, walk_sd=30):\n",
    "        self.k = k\n",
    "        self.action_means = np.random.normal(mu, sigma, k)\n",
    "        self.action_sds = sd\n",
    "        self.walk_sd = walk_sd\n",
    "        self.optimal = np.argmax(self.action_means)\n",
    "\n",
    "    def step(self, action):\n",
    "        out = (\n",
    "            np.random.normal(self.action_means[action], self.action_sds),\n",
    "            action == self.optimal,\n",
    "        )\n",
    "        self.action_means = self.action_means + np.random.normal(\n",
    "            0.0, self.walk_sd, self.k\n",
    "        )\n",
    "        self.optimal = np.argmax(self.action_means)\n",
    "        return out"
   ]
  },
  {
   "cell_type": "code",
   "execution_count": null,
   "metadata": {},
   "outputs": [],
   "source": [
    "# intialize this bandit like this\n",
    "n_bandits = 4\n",
    "bandit = KArmBanditRestless(n_bandits)"
   ]
  },
  {
   "cell_type": "markdown",
   "metadata": {},
   "source": [
    "The random agent perform as bas as we expected. \n",
    "\n",
    "In previous problems, we try to reduce the exploration rate as times go, but now we need to keep epsilon, so it is a bad idea to set epsilon to zero for a long time. \n",
    "\n",
    "In such problems we see that the new data is more valuable than old data, because old data is less imformative(larger variance in posterior), so whichever utilize the new data better will get better outcomes.\n",
    "\n",
    "The Incremental agent do better than random but not enough. it has less ability to updata the new data because the new data is given a weight of 1/n. As n get large, we merely learn nothing.  \n",
    "\n",
    "So the Constant agent do the best job, a constant alpha(I believe it should be 1 because the st of the noize is 30, which is very large compare to the st 2 from bandit) will value more to a new data. \n",
    "\n",
    "From I(human) believe, to optimal stretegy is to epsilon according to the time and the difference of current bandit rewards with others old records. Our policy should include the action of whether to epsilon. Instead of pre-decide it(such as set it to 0.2 all the time), I believe we need use reinforcement learning to learn the exploration rule. \n"
   ]
  },
  {
   "cell_type": "markdown",
   "metadata": {},
   "source": [
    "<div class=\"alert alert-success\" role=\"alert\">\n",
    "<h3> Problem 7 (15 points) </h3><br>\n",
    " \n",
    "For this problem, we return to the grid world task we considered in Part A.  Specifically, you should combine the ideas about epsilon-exploit and incremental learning of q-values to implement a temporal-difference solution the to grid world problem you epsilond in Part A of the homework.  You can reuse the code from that notebook in building your solution.  This solution should also obtain similar results to the policy-iteration and monte-carlo versions you epsilond, but is learned more incrementally and online.  \n",
    "\n",
    "The basic setup of the GridWorld environment is provided again for you below.  Your solution to this problem should involve modifications to the solution to the Monte-Carlo problems in Part A.  In particular, instead of waiting until a particular episode ends to update the values of the Q-values, use the Q-learning equation to incrementally updates these values as an episode unfolds.  To balance exploration and exploitation try any of the methods you developed in the earlier parts of this assignment.\n",
    "\n",
    "As a reminder the question for updating the Q values in Q-learning is as follows:\n",
    "\n",
    "$Q(s,a) = Q(s,a) + \\alpha [r +\\gamma  max_{a'} Q(s',a') - Q(s,a)] $\n",
    "\n",
    "The pseudo code for this algorithm is:\n",
    "```\n",
    "Initialize, for all $s \\in S$, $a \\in A(s)$:\n",
    "    $Q(s,a)$ <- arbitrary\n",
    "\n",
    "Repeat many times (for each episode):\n",
    "    a) Initialize $s$ at the start state\n",
    "    b) Repeat\n",
    "        1. Choose action $a$ from $s$ using policy dervived from Q values in that state (e.g., SoftMax)\n",
    "        2. Take action $a$, observe $r$, $s'$\n",
    "        3. Update $Q(s,a)$\n",
    "           Find max Q(s',a') over all action a' in state s'\n",
    "           $Q(s,a) = Q(s,a) + \\alpha [r + \\gamma max Q(s',a') - Q(s,a)]$\n",
    "           $s$ <- $s'$\n",
    "       Until $s$ is the goal state\n",
    "```\n",
    "\n",
    "\n",
    "</div>"
   ]
  },
  {
   "cell_type": "code",
   "execution_count": null,
   "metadata": {},
   "outputs": [],
   "source": [
    "# import the gridworld library\n",
    "import numpy as np\n",
    "import random\n",
    "import math\n",
    "import statistics\n",
    "from copy import deepcopy\n",
    "from IPython.display import display, Markdown, Latex, HTML\n",
    "from gridworld import GridWorld, random_policy"
   ]
  },
  {
   "cell_type": "code",
   "execution_count": null,
   "metadata": {},
   "outputs": [
    {
     "data": {
      "text/markdown": [
       "## Welcome to your new Grid World!"
      ],
      "text/plain": [
       "<IPython.core.display.Markdown object>"
      ]
     },
     "metadata": {},
     "output_type": "display_data"
    },
    {
     "data": {
      "text/markdown": [
       "**Raw World Layout**"
      ],
      "text/plain": [
       "<IPython.core.display.Markdown object>"
      ]
     },
     "metadata": {},
     "output_type": "display_data"
    },
    {
     "data": {
      "text/html": [
       "<table>\n",
       "<tbody>\n",
       "<tr><td>o</td><td>o</td><td>o</td><td>o</td><td>o</td><td>o</td><td>o</td><td>x</td><td>g</td></tr>\n",
       "<tr><td>o</td><td>x</td><td>x</td><td>o</td><td>x</td><td>x</td><td>o</td><td>x</td><td>o</td></tr>\n",
       "<tr><td>o</td><td>x</td><td>x</td><td>o</td><td>x</td><td>x</td><td>o</td><td>x</td><td>o</td></tr>\n",
       "<tr><td>o</td><td>x</td><td>x</td><td>o</td><td>x</td><td>x</td><td>o</td><td>o</td><td>o</td></tr>\n",
       "<tr><td>o</td><td>x</td><td>x</td><td>o</td><td>x</td><td>x</td><td>x</td><td>o</td><td>o</td></tr>\n",
       "<tr><td>s</td><td>o</td><td>o</td><td>o</td><td>o</td><td>o</td><td>o</td><td>o</td><td>x</td></tr>\n",
       "</tbody>\n",
       "</table>"
      ],
      "text/plain": [
       "<IPython.core.display.HTML object>"
      ]
     },
     "metadata": {},
     "output_type": "display_data"
    },
    {
     "data": {
      "text/markdown": [
       "**Indexes of each grid location as an id number**"
      ],
      "text/plain": [
       "<IPython.core.display.Markdown object>"
      ]
     },
     "metadata": {},
     "output_type": "display_data"
    },
    {
     "data": {
      "text/html": [
       "<table>\n",
       "<tbody>\n",
       "<tr><td style=\"text-align: right;\"> 0</td><td style=\"text-align: right;\"> 1</td><td style=\"text-align: right;\"> 2</td><td style=\"text-align: right;\"> 3</td><td style=\"text-align: right;\"> 4</td><td style=\"text-align: right;\"> 5</td><td style=\"text-align: right;\"> 6</td><td style=\"text-align: right;\"> 7</td><td style=\"text-align: right;\"> 8</td></tr>\n",
       "<tr><td style=\"text-align: right;\"> 9</td><td style=\"text-align: right;\">10</td><td style=\"text-align: right;\">11</td><td style=\"text-align: right;\">12</td><td style=\"text-align: right;\">13</td><td style=\"text-align: right;\">14</td><td style=\"text-align: right;\">15</td><td style=\"text-align: right;\">16</td><td style=\"text-align: right;\">17</td></tr>\n",
       "<tr><td style=\"text-align: right;\">18</td><td style=\"text-align: right;\">19</td><td style=\"text-align: right;\">20</td><td style=\"text-align: right;\">21</td><td style=\"text-align: right;\">22</td><td style=\"text-align: right;\">23</td><td style=\"text-align: right;\">24</td><td style=\"text-align: right;\">25</td><td style=\"text-align: right;\">26</td></tr>\n",
       "<tr><td style=\"text-align: right;\">27</td><td style=\"text-align: right;\">28</td><td style=\"text-align: right;\">29</td><td style=\"text-align: right;\">30</td><td style=\"text-align: right;\">31</td><td style=\"text-align: right;\">32</td><td style=\"text-align: right;\">33</td><td style=\"text-align: right;\">34</td><td style=\"text-align: right;\">35</td></tr>\n",
       "<tr><td style=\"text-align: right;\">36</td><td style=\"text-align: right;\">37</td><td style=\"text-align: right;\">38</td><td style=\"text-align: right;\">39</td><td style=\"text-align: right;\">40</td><td style=\"text-align: right;\">41</td><td style=\"text-align: right;\">42</td><td style=\"text-align: right;\">43</td><td style=\"text-align: right;\">44</td></tr>\n",
       "<tr><td style=\"text-align: right;\">45</td><td style=\"text-align: right;\">46</td><td style=\"text-align: right;\">47</td><td style=\"text-align: right;\">48</td><td style=\"text-align: right;\">49</td><td style=\"text-align: right;\">50</td><td style=\"text-align: right;\">51</td><td style=\"text-align: right;\">52</td><td style=\"text-align: right;\">53</td></tr>\n",
       "</tbody>\n",
       "</table>"
      ],
      "text/plain": [
       "<IPython.core.display.HTML object>"
      ]
     },
     "metadata": {},
     "output_type": "display_data"
    },
    {
     "data": {
      "text/markdown": [
       "**Indexes of each grid location as a tuple**"
      ],
      "text/plain": [
       "<IPython.core.display.Markdown object>"
      ]
     },
     "metadata": {},
     "output_type": "display_data"
    },
    {
     "data": {
      "text/html": [
       "<table>\n",
       "<tbody>\n",
       "<tr><td>(0,0)</td><td>(0,1)</td><td>(0,2)</td><td>(0,3)</td><td>(0,4)</td><td>(0,5)</td><td>(0,6)</td><td>(0,7)</td><td>(0,8)</td></tr>\n",
       "<tr><td>(1,0)</td><td>(1,1)</td><td>(1,2)</td><td>(1,3)</td><td>(1,4)</td><td>(1,5)</td><td>(1,6)</td><td>(1,7)</td><td>(1,8)</td></tr>\n",
       "<tr><td>(2,0)</td><td>(2,1)</td><td>(2,2)</td><td>(2,3)</td><td>(2,4)</td><td>(2,5)</td><td>(2,6)</td><td>(2,7)</td><td>(2,8)</td></tr>\n",
       "<tr><td>(3,0)</td><td>(3,1)</td><td>(3,2)</td><td>(3,3)</td><td>(3,4)</td><td>(3,5)</td><td>(3,6)</td><td>(3,7)</td><td>(3,8)</td></tr>\n",
       "<tr><td>(4,0)</td><td>(4,1)</td><td>(4,2)</td><td>(4,3)</td><td>(4,4)</td><td>(4,5)</td><td>(4,6)</td><td>(4,7)</td><td>(4,8)</td></tr>\n",
       "<tr><td>(5,0)</td><td>(5,1)</td><td>(5,2)</td><td>(5,3)</td><td>(5,4)</td><td>(5,5)</td><td>(5,6)</td><td>(5,7)</td><td>(5,8)</td></tr>\n",
       "</tbody>\n",
       "</table>"
      ],
      "text/plain": [
       "<IPython.core.display.HTML object>"
      ]
     },
     "metadata": {},
     "output_type": "display_data"
    }
   ],
   "source": [
    "gridworld = [\n",
    "    [\"o\", \"o\", \"o\", \"o\", \"o\", \"o\", \"o\", \"x\", \"g\"],\n",
    "    [\"o\", \"x\", \"x\", \"o\", \"x\", \"x\", \"o\", \"x\", \"o\"],\n",
    "    [\"o\", \"x\", \"x\", \"o\", \"x\", \"x\", \"o\", \"x\", \"o\"],\n",
    "    [\"o\", \"x\", \"x\", \"o\", \"x\", \"x\", \"o\", \"o\", \"o\"],\n",
    "    [\"o\", \"x\", \"x\", \"o\", \"x\", \"x\", \"x\", \"o\", \"o\"],\n",
    "    [\"s\", \"o\", \"o\", \"o\", \"o\", \"o\", \"o\", \"o\", \"x\"],\n",
    "]  # the problem described above, 'x' is a wall, 's' is start, 'g' is goal, and 'o' is a normal room\n",
    "\n",
    "\n",
    "mygrid = GridWorld(gridworld)\n",
    "mygrid.raw_print()  # print out the grid world\n",
    "mygrid.index_print()  # print out the indicies of each state\n",
    "mygrid.coord_print()  # print out the coordinates of each state (helpful in your code)\n",
    "\n",
    "# define the rewards as a hash table\n",
    "rewards = {}\n",
    "\n",
    "# mygrid.transitions contains all the pairwise state-state transitions allowed in the grid\n",
    "# for each state transition intialize the reward to zero\n",
    "for start_state in mygrid.transitions:\n",
    "    for action in mygrid.transitions[start_state].keys():\n",
    "        next_state = mygrid.transitions[start_state][action]\n",
    "        rewards[str([start_state, action, next_state])] = 0.0\n",
    "\n",
    "# now set the reward for moving up into state 8 (the goal state) to +10\n",
    "rewards[str([17, \"up\", 8])] = 10\n",
    "\n",
    "# now set the penalty for walking off the edge of the grid and returning to state 45 (the start state)\n",
    "for i in [0, 1, 2, 3, 4, 5, 6, 7]:\n",
    "    rewards[str([i, \"up\", 45])] = -1\n",
    "for i in [0, 9, 18, 27, 36, 45]:\n",
    "    rewards[str([i, \"left\", 45])] = -1\n",
    "for i in [45, 46, 47, 48, 49, 50, 51, 52, 53]:\n",
    "    rewards[str([i, \"down\", 45])] = -1\n",
    "for i in [8, 17, 26, 35, 44, 53]:\n",
    "    rewards[str([i, \"right\", 45])] = -1"
   ]
  },
  {
   "cell_type": "markdown",
   "metadata": {},
   "source": [
    "<div class=\"alert alert-info\" role=\"alert\">\n",
    "  \n",
    "  The following code sets up the major things you need to track.  Note that unlike in the Monte Carlo solution you do not need a separate accounting of the returns as you are updating those to the Q-values directly.\n",
    "  \n",
    "  Also you shouldn't need to update the policy table until you have run many episodes through the maze.  The final update to the `policy_table` should just to be to print out your final greedy solution and compare it to the solutions you obtained in Part A.\n",
    " \n",
    "</div>"
   ]
  },
  {
   "cell_type": "code",
   "execution_count": null,
   "metadata": {},
   "outputs": [
    {
     "data": {
      "text/markdown": [
       "**Initial (randomized) policy**"
      ],
      "text/plain": [
       "<IPython.core.display.Markdown object>"
      ]
     },
     "metadata": {},
     "output_type": "display_data"
    },
    {
     "data": {
      "text/html": [
       "<table>\n",
       "<tbody>\n",
       "<tr><td>↑</td><td>←</td><td>→</td><td>←</td><td>←</td><td>→</td><td>→</td><td>▉</td><td>→</td></tr>\n",
       "<tr><td>↓</td><td>▉</td><td>▉</td><td>↑</td><td>▉</td><td>▉</td><td>↑</td><td>▉</td><td>→</td></tr>\n",
       "<tr><td>→</td><td>▉</td><td>▉</td><td>→</td><td>▉</td><td>▉</td><td>→</td><td>▉</td><td>←</td></tr>\n",
       "<tr><td>←</td><td>▉</td><td>▉</td><td>←</td><td>▉</td><td>▉</td><td>→</td><td>↓</td><td>←</td></tr>\n",
       "<tr><td>→</td><td>▉</td><td>▉</td><td>→</td><td>▉</td><td>▉</td><td>▉</td><td>←</td><td>←</td></tr>\n",
       "<tr><td>→</td><td>↑</td><td>↓</td><td>→</td><td>←</td><td>→</td><td>↓</td><td>→</td><td>▉</td></tr>\n",
       "</tbody>\n",
       "</table>"
      ],
      "text/plain": [
       "<IPython.core.display.HTML object>"
      ]
     },
     "metadata": {},
     "output_type": "display_data"
    }
   ],
   "source": [
    "starting_state = 45\n",
    "goal_state = 8  # terminate the MC roll out when you get to this state\n",
    "GAMMA = 0.9\n",
    "EPSILON = 0.2\n",
    "\n",
    "\n",
    "# set up initial data strucutres that might be useful for you\n",
    "# q(s,a) - the q-values for each action in each state\n",
    "def zero_q_values():\n",
    "    qvals = {\"up\": 0.0, \"right\": 0.0, \"down\": 0.0, \"left\": 0.0}\n",
    "    return qvals\n",
    "\n",
    "\n",
    "q_value_table = [\n",
    "    [zero_q_values() for i in range(mygrid.ncols)] for j in range(mygrid.nrows)\n",
    "]\n",
    "\n",
    "# pi - the policy table\n",
    "policy_table = [\n",
    "    [random_policy() for i in range(mygrid.ncols)] for j in range(mygrid.nrows)\n",
    "]\n",
    "display(Markdown(\"**Initial (randomized) policy**\"))\n",
    "mygrid.pretty_print_policy_table(policy_table)"
   ]
  },
  {
   "cell_type": "code",
   "execution_count": null,
   "metadata": {},
   "outputs": [
    {
     "data": {
      "text/markdown": [
       "**Initial (randomized) policy**"
      ],
      "text/plain": [
       "<IPython.core.display.Markdown object>"
      ]
     },
     "metadata": {},
     "output_type": "display_data"
    },
    {
     "data": {
      "text/html": [
       "<table>\n",
       "<tbody>\n",
       "<tr><td>↓</td><td>↓</td><td>←</td><td>→</td><td>↑</td><td>↑</td><td>→</td><td>▉</td><td>↑</td></tr>\n",
       "<tr><td>↑</td><td>▉</td><td>▉</td><td>→</td><td>▉</td><td>▉</td><td>↑</td><td>▉</td><td>↑</td></tr>\n",
       "<tr><td>→</td><td>▉</td><td>▉</td><td>→</td><td>▉</td><td>▉</td><td>←</td><td>▉</td><td>↑</td></tr>\n",
       "<tr><td>↓</td><td>▉</td><td>▉</td><td>↓</td><td>▉</td><td>▉</td><td>↑</td><td>←</td><td>↑</td></tr>\n",
       "<tr><td>↑</td><td>▉</td><td>▉</td><td>←</td><td>▉</td><td>▉</td><td>▉</td><td>↑</td><td>↑</td></tr>\n",
       "<tr><td>→</td><td>←</td><td>→</td><td>←</td><td>↓</td><td>↑</td><td>→</td><td>↑</td><td>▉</td></tr>\n",
       "</tbody>\n",
       "</table>"
      ],
      "text/plain": [
       "<IPython.core.display.HTML object>"
      ]
     },
     "metadata": {},
     "output_type": "display_data"
    },
    {
     "data": {
      "text/markdown": [
       "good policy**"
      ],
      "text/plain": [
       "<IPython.core.display.Markdown object>"
      ]
     },
     "metadata": {},
     "output_type": "display_data"
    },
    {
     "ename": "NameError",
     "evalue": "name 'policy_final' is not defined",
     "output_type": "error",
     "traceback": [
      "\u001b[1;31m---------------------------------------------------------------------------\u001b[0m",
      "\u001b[1;31mNameError\u001b[0m                                 Traceback (most recent call last)",
      "Cell \u001b[1;32mIn[14], line 81\u001b[0m\n\u001b[0;32m     76\u001b[0m policy_table \u001b[38;5;241m=\u001b[39m [\n\u001b[0;32m     77\u001b[0m [be_greedy(q_value_table[j][i]) \u001b[38;5;28;01mfor\u001b[39;00m i \u001b[38;5;129;01min\u001b[39;00m \u001b[38;5;28mrange\u001b[39m(mygrid\u001b[38;5;241m.\u001b[39mncols)] \u001b[38;5;28;01mfor\u001b[39;00m j \u001b[38;5;129;01min\u001b[39;00m \u001b[38;5;28mrange\u001b[39m(mygrid\u001b[38;5;241m.\u001b[39mnrows)\n\u001b[0;32m     78\u001b[0m ]\n\u001b[0;32m     80\u001b[0m display(Markdown(\u001b[38;5;124m\"\u001b[39m\u001b[38;5;124mgood policy**\u001b[39m\u001b[38;5;124m\"\u001b[39m))\n\u001b[1;32m---> 81\u001b[0m mygrid\u001b[38;5;241m.\u001b[39mpretty_print_policy_table(policy_final)\n",
      "\u001b[1;31mNameError\u001b[0m: name 'policy_final' is not defined"
     ]
    }
   ],
   "source": [
    "from scipy.special import softmax\n",
    "starting_state = 45\n",
    "goal_state = 8  # terminate the MC roll out when you get to this state\n",
    "GAMMA = 0.9\n",
    "EPSILON = 0.2\n",
    "alpha=0.2\n",
    "ep=300\n",
    "\n",
    "# set up initial data strucutres that might be useful for you\n",
    "# q(s,a) - the q-values for each action in each state\n",
    "def zero_q_values():\n",
    "    qvals = {\"up\": 0.0, \"right\": 0.0, \"down\": 0.0, \"left\": 0.0}\n",
    "    return qvals\n",
    "\n",
    "\n",
    "q_value_table = [\n",
    "    [zero_q_values() for i in range(mygrid.ncols)] for j in range(mygrid.nrows)\n",
    "]\n",
    "\n",
    "# pi - the policy table\n",
    "policy_table = [\n",
    "    [random_policy() for i in range(mygrid.ncols)] for j in range(mygrid.nrows)\n",
    "]\n",
    "display(Markdown(\"**Initial (randomized) policy**\"))\n",
    "mygrid.pretty_print_policy_table(policy_table)\n",
    "\n",
    "\n",
    "\n",
    "def fmax(qvals):\n",
    "    keys = list(qvals.keys())\n",
    "    vals = [qvals[i] for i in keys]\n",
    "    return np.max(vals)\n",
    "\n",
    "\n",
    "\n",
    "def decide(qvals,epsilon,tau):\n",
    "    keys = list(qvals.keys())\n",
    "    vals = [qvals[i] for i in keys]\n",
    "    prob = softmax(vals*tau)\n",
    "    if random.random() < epsilon:\n",
    "        return random.choice(keys)\n",
    "    action = np.random.choice(keys, p = prob)\n",
    "    return action\n",
    "\n",
    "for run in range(ep):\n",
    "    eplore=EPSILON*(ep-run)/ep\n",
    "    s=start_state\n",
    "    for k in range(100):\n",
    "        if s != goal_state:\n",
    "            sx, sy = mygrid.index_to_coord(s)\n",
    "            qv=q_value_table[sx][sy]\n",
    "            a=decide(qv,eplore,1)\n",
    "            ns=mygrid.transitions[s][a] \n",
    "            r=rewards[str([s, a, ns])]\n",
    "            nsx, nsy=mygrid.index_to_coord(ns)\n",
    "            qv[a]=qv[a]+alpha*(r+GAMMA*fmax(q_value_table[nsx][nsy])-qv[a])\n",
    "            s=ns\n",
    "\n",
    "\n",
    "def be_greedy(q_values):\n",
    "    if len(q_values) == 0:\n",
    "        return {}\n",
    "\n",
    "    keys = list(q_values.keys())\n",
    "    vals = [q_values[i] for i in keys]\n",
    "    maxqs = [i for i, x in enumerate(vals) if x == max(vals)]\n",
    "    if len(maxqs) > 1:\n",
    "        pos = random.choice(maxqs)\n",
    "    else:\n",
    "        pos = maxqs[0]\n",
    "    policy = deepcopy(q_values)\n",
    "    for i in policy.keys():\n",
    "        policy[i] = 0.0\n",
    "    policy[keys[pos]] = 1.0\n",
    "    return policy\n",
    "policy_table = [\n",
    "[be_greedy(q_value_table[j][i]) for i in range(mygrid.ncols)] for j in range(mygrid.nrows)\n",
    "]\n",
    "\n",
    "display(Markdown(\"good policy**\"))\n",
    "mygrid.pretty_print_policy_table(policy_final)\n",
    "\n"
   ]
  },
  {
   "cell_type": "markdown",
   "metadata": {},
   "source": [
    "# Turning in homework\n",
    "\n",
    "When you are finished with this notebook. Save your work in order to turn it in.  To do this select *File*->*Download As...*->*HTML*.\n",
    "\n",
    "<img src=\"images/save-pdf.png\" width=\"300\">\n",
    "\n",
    "You can turn in your assignments using Gradescope for the course (available on https://home.nyu.edu). **Make sure you complete all parts (A and B) of this homework.**"
   ]
  },
  {
   "cell_type": "markdown",
   "metadata": {},
   "source": []
  }
 ],
 "metadata": {
  "kernel_info": {
   "name": "python3"
  },
  "kernelspec": {
   "display_name": "Python 3",
   "language": "python",
   "name": "python3"
  },
  "language_info": {
   "codemirror_mode": {
    "name": "ipython",
    "version": 3
   },
   "file_extension": ".py",
   "mimetype": "text/x-python",
   "name": "python",
   "nbconvert_exporter": "python",
   "pygments_lexer": "ipython3",
   "version": "3.11.4"
  },
  "nteract": {
   "version": "0.15.0"
  },
  "toc": {
   "base_numbering": 1,
   "nav_menu": {},
   "number_sections": true,
   "sideBar": true,
   "skip_h1_title": false,
   "title_cell": "Table of Contents",
   "title_sidebar": "Contents",
   "toc_cell": false,
   "toc_position": {
    "height": "calc(100% - 180px)",
    "left": "10px",
    "top": "150px",
    "width": "288.796875px"
   },
   "toc_section_display": true,
   "toc_window_display": false
  }
 },
 "nbformat": 4,
 "nbformat_minor": 2
}
